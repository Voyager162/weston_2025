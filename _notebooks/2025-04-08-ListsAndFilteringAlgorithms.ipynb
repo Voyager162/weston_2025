{
 "cells": [
  {
   "cell_type": "raw",
   "id": "0fc07824",
   "metadata": {
    "vscode": {
     "languageId": "raw"
    }
   },
   "source": [
    "---\n",
    "layout: page\n",
    "title: Lists and Filtering Algorithms Homework and Popcorn hacks\n",
    "permalink: /posts/listsAndFilters/\n",
    "---"
   ]
  },
  {
   "cell_type": "markdown",
   "id": "4bd7b3d0",
   "metadata": {},
   "source": [
    "## Popcorn Hack #1"
   ]
  },
  {
   "cell_type": "code",
   "execution_count": 1,
   "id": "f3c269d2",
   "metadata": {},
   "outputs": [
    {
     "name": "stdout",
     "output_type": "stream",
     "text": [
      "Updated list of movies: ['Gladiator', 'Dune: Part Two', 'Interstellar', 'Dune: Part One', 'Top Gun: Maverick']\n"
     ]
    }
   ],
   "source": [
    "movies = [\"Gladiator\", \"Inception\", \"Interstellar\", \"Dune: Part One\"]\n",
    "\n",
    "movies[1] = \"Dune: Part Two\"\n",
    "\n",
    "movies.append(\"Top Gun: Maverick\")\n",
    "\n",
    "print(\"Updated list of movies:\", movies)"
   ]
  },
  {
   "cell_type": "markdown",
   "id": "0cb58836",
   "metadata": {},
   "source": [
    "## Popcorn Hack #2"
   ]
  },
  {
   "cell_type": "code",
   "execution_count": 2,
   "id": "9e4d43ae",
   "metadata": {},
   "outputs": [
    {
     "name": "stdout",
     "output_type": "stream",
     "text": [
      "Ages eligible for voting: [20, 34, 18, 21, 19]\n"
     ]
    }
   ],
   "source": [
    "ages = [15, 20, 34, 16, 18, 21, 14, 19]\n",
    "\n",
    "voting_ages = [age for age in ages if age >= 18]\n",
    "\n",
    "print(\"Ages eligible for voting:\", voting_ages)"
   ]
  },
  {
   "cell_type": "markdown",
   "id": "209448bc",
   "metadata": {},
   "source": [
    "## Homework Hack #1"
   ]
  },
  {
   "cell_type": "markdown",
   "id": "8184c4fe",
   "metadata": {},
   "source": [
    "## Homework Hack #2"
   ]
  },
  {
   "cell_type": "code",
   "execution_count": 3,
   "id": "44c4081b",
   "metadata": {},
   "outputs": [
    {
     "name": "stdout",
     "output_type": "stream",
     "text": [
      "Original list of numbers: [1, 2, 3, 4, 5, 6, 7, 8, 9, 10, 11, 12, 13, 14, 15, 16, 17, 18, 19, 20, 21, 22, 23, 24, 25, 26, 27, 28, 29, 30]\n",
      "Filtered numbers (divisible by 3 but not by 5): [3, 6, 9, 12, 18, 21, 24, 27]\n"
     ]
    }
   ],
   "source": [
    "numbers = list(range(1, 31))\n",
    "\n",
    "filtered_numbers = [num for num in numbers if num % 3 == 0 and num % 5 != 0]\n",
    "\n",
    "print(\"Original list of numbers:\", numbers)\n",
    "\n",
    "print(\"Filtered numbers (divisible by 3 but not by 5):\", filtered_numbers)"
   ]
  },
  {
   "cell_type": "markdown",
   "id": "ad0e5ea1",
   "metadata": {},
   "source": [
    "## Homework Hack #3"
   ]
  },
  {
   "cell_type": "code",
   "execution_count": 4,
   "id": "7e82cd0d",
   "metadata": {},
   "outputs": [
    {
     "name": "stdout",
     "output_type": "stream",
     "text": [
      "Original list of names: ['Alice', 'Bob', 'Charlotte', 'Daniel', 'Eve', 'Frank']\n",
      "Names with length >= 5: ['Alice', 'Charlotte', 'Daniel', 'Frank']\n"
     ]
    }
   ],
   "source": [
    "def filter_long_names(names, min_length):\n",
    "    return [name for name in names if len(name) >= min_length]\n",
    "\n",
    "names_list = [\"Alice\", \"Bob\", \"Charlotte\", \"Daniel\", \"Eve\", \"Frank\"]\n",
    "min_length = 5\n",
    "filtered_names = filter_long_names(names_list, min_length)\n",
    "\n",
    "print(\"Original list of names:\", names_list)\n",
    "print(f\"Names with length >= {min_length}:\", filtered_names)"
   ]
  },
  {
   "cell_type": "markdown",
   "id": "80796ba6",
   "metadata": {},
   "source": [
    "## Review Questions\n",
    "### #1: Explain what lists are in Python, including how to modify and manipulate them.\n",
    "In Python, a list is a built-in data structure that allows you to store an ordered collection of items. These items can be of any data type, such as integers, strings, floats, or even other lists. Lists are mutable, meaning their contents can be changed after creation. You can add, remove, or modify elements in a list using various methods and operations.\n",
    "### #2: Provide a real-world scenario where a filtering algorithm might be applied.\n",
    "A real-world scenario where a filtering algorithm might be applied is in an e-commerce website's recommendation system. When a user browses products, the system can filter and recommend items based on the user's previous purchases, browsing history, and preferences. For example, if a user frequently buys sports equipment, the algorithm can filter and suggest similar products like running shoes or fitness trackers.\n",
    "### #3: Discuss why analyzing the efficiency of filtering algorithms is important for software development.\n",
    "Analyzing the efficiency of filtering algorithms is crucial for software development because it directly impacts the performance and user experience of applications. Efficient algorithms can process large datasets quickly, reducing response times and improving overall system performance. In contrast, inefficient algorithms can lead to slowdowns, increased resource consumption, and a poor user experience. By understanding the efficiency of filtering algorithms, developers can make informed decisions about which algorithms to use in their applications, ensuring optimal performance and scalability.\n"
   ]
  }
 ],
 "metadata": {
  "kernelspec": {
   "display_name": "venv",
   "language": "python",
   "name": "python3"
  },
  "language_info": {
   "codemirror_mode": {
    "name": "ipython",
    "version": 3
   },
   "file_extension": ".py",
   "mimetype": "text/x-python",
   "name": "python",
   "nbconvert_exporter": "python",
   "pygments_lexer": "ipython3",
   "version": "3.10.12"
  }
 },
 "nbformat": 4,
 "nbformat_minor": 5
}
