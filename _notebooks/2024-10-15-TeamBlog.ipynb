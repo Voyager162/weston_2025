{
 "cells": [
  {
   "cell_type": "raw",
   "metadata": {
    "vscode": {
     "languageId": "raw"
    }
   },
   "source": [
    "---\n",
    "layout: page\n",
    "title: Team Blog for sprint 2\n",
    "permalink: /posts/teamBlog/\n",
    "---"
   ]
  },
  {
   "cell_type": "markdown",
   "metadata": {},
   "source": [
    "| Member Name | Link to individual blog |\n",
    "|----------|----------|\n",
    "|Lars Lindain|<a href = \"\"><button>link</button></a>|\n",
    "|Arnav Mittal|<a href = \"\"><button>link</button></a>|\n",
    "|Shaurya Signh|<a href = \"\"><button>link</button></a>|\n",
    "|Ehren Leon|<a href = \"\"><button>link</button></a>|\n",
    "|Weston Gardner|<a href = \"\"><button>link</button></a>|"
   ]
  }
 ],
 "metadata": {
  "language_info": {
   "name": "python"
  }
 },
 "nbformat": 4,
 "nbformat_minor": 2
}
