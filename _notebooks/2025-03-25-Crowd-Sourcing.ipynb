{
 "cells": [
  {
   "cell_type": "raw",
   "metadata": {
    "vscode": {
     "languageId": "raw"
    }
   },
   "source": [
    "---\n",
    "layout: page\n",
    "title: Crowd Sourcing Homework and Popcorn hacks\n",
    "permalink: /posts/crowdSoucing/\n",
    "---"
   ]
  },
  {
   "cell_type": "markdown",
   "metadata": {},
   "source": [
    "## Rating of the mango introduction: 9/10\n",
    "\n",
    "## Popcorn Hack #3\n",
    "\n",
    "Different Forums such as stack overflow use crowdsourcing, not only to recieve answers but also to rate them. This is a great way to get the best answer to your question, and find which answers are the most helpful.\n",
    "\n",
    "Bitcoin is also a way to do crowdsourcing, becuase it allows the general population to perform a service to a network, and be rewarded for it. This is a great way to get the best service for your money, and find which services are the most helpful.\n",
    "\n",
    "## Homework Hack\n",
    "\n",
    "Song 1: \"Sweet Child o' Mine\" by Guns N' Roses\n",
    "Song 2: \"Don't Stop Believin'\" by Journey"
   ]
  }
 ],
 "metadata": {
  "language_info": {
   "name": "python"
  }
 },
 "nbformat": 4,
 "nbformat_minor": 2
}
