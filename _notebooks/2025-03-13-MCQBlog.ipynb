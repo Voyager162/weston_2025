{
 "cells": [
  {
   "cell_type": "raw",
   "metadata": {
    "vscode": {
     "languageId": "raw"
    }
   },
   "source": [
    "---\n",
    "layout: page\n",
    "title: MCQ Blog\n",
    "permalink: /MCQBlog/\n",
    "comments: False\n",
    "---"
   ]
  },
  {
   "cell_type": "markdown",
   "metadata": {},
   "source": [
    "Score: 58/67 (86.57%)\n",
    "---\n",
    "## Missed Questions\n",
    "\n",
    "|Question|Big Idea|Reason for failure|\n",
    "|---------|-------|-------|\n",
    "|Q8|1.B|Did not completely understand the options and question|\n",
    "|Q14|4.B|Did not completely understand the vocabulary used|\n",
    "|Q32|3.B|Simple mistake / overlooked a small piece of crucial data|\n",
    "|Q47|1.A|Did not understand material / Binary search algorithm|\n",
    "|Q49|2.B|I did not take into factor the other bits when calculating the highest number that could be represented|\n",
    "|Q50|1.D|Did not understand material / Reasonable time algorithms|\n",
    "|Q51|5.E|Did not understand material / Creative Commons|\n",
    "|Q60|3.B|Had trouble following the complex logic|\n",
    "|Q65|4.B|Did not realize that it was multiple choice and clicked only one answer|\n",
    "\n",
    "## Actionables / burn down list\n",
    "- Review misunderstood material, big ideas 4.B, 1.A, 1.D, and 5.E\n",
    "- Perform extra practice in order to get rid of simple mistakes\n",
    "- Create my own problems and solve them in order to gain a better understanding of the material\n",
    "\n",
    "## Takeaways\n",
    "This score was much better than my last MCQ score (50/66 75.76%). This means that I have greatly improved my knowledge of the collage board material. There are a few things more that I need to study and work on, but altogether I am very confident in my knowledge and skills.\n",
    "\n",
    "<script src=\"https://utteranc.es/client.js\"\n",
    "        repo=\"voyager162/weston_2025\"\n",
    "        issue-term=\"title\"\n",
    "        label=\"blogpost-comment\"\n",
    "        theme=\"github-light\"\n",
    "        crossorigin=\"anonymous\"\n",
    "        async>\n",
    "</script>"
   ]
  }
 ],
 "metadata": {
  "language_info": {
   "name": "python"
  }
 },
 "nbformat": 4,
 "nbformat_minor": 2
}
