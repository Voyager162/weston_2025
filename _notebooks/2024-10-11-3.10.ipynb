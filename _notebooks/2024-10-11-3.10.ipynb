{
 "cells": [
  {
   "cell_type": "raw",
   "metadata": {
    "vscode": {
     "languageId": "raw"
    }
   },
   "source": [
    "---\n",
    "layout: page\n",
    "title: 3.10 Homework and Popcorn hacks\n",
    "permalink: /posts/3.10/\n",
    "---"
   ]
  },
  {
   "cell_type": "markdown",
   "metadata": {},
   "source": [
    "## Popcorn Hacks\n",
    "\n",
    "### Hack #1"
   ]
  },
  {
   "cell_type": "code",
   "execution_count": null,
   "metadata": {
    "vscode": {
     "languageId": "javascript"
    }
   },
   "outputs": [],
   "source": [
    "%%js\n",
    "\n",
    "\n",
    "let aList = [];\n",
    "\n",
    "while (true) {\n",
    "\n",
    "    let userInput = prompt(\"Enter an item you want (or 'q' to quit):\");\n",
    "\n",
    "    if (userInput === 'q') {\n",
    "        break;\n",
    "    }\n",
    "\n",
    "    aList.push(userInput);\n",
    "}\n",
    "\n",
    "console.log(aList)"
   ]
  },
  {
   "cell_type": "markdown",
   "metadata": {},
   "source": [
    "### Hack #2"
   ]
  },
  {
   "cell_type": "code",
   "execution_count": null,
   "metadata": {
    "vscode": {
     "languageId": "javascript"
    }
   },
   "outputs": [],
   "source": [
    "%%js\n",
    "\n",
    "let aList = []\n",
    "\n",
    "while (true) {\n",
    "    let userInput = prompt(\"Enter an item you want (or 'q' to quit):\")\n",
    "\n",
    "    if (user_input === 'q') {\n",
    "        break;\n",
    "    }\n",
    "\n",
    "    aList.push(userInput)\n",
    "}\n",
    "\n",
    "console.log(aList[2])"
   ]
  },
  {
   "cell_type": "markdown",
   "metadata": {},
   "source": [
    "### Hack #3"
   ]
  },
  {
   "cell_type": "code",
   "execution_count": null,
   "metadata": {},
   "outputs": [],
   "source": [
    "myFavoriteFoods = [\"Ribeye\", \"Alaskan Black Cod\", \"Filet Mignon\", \"Fish Tacos\", \"pizza\"]\n",
    "\n",
    "myFavoriteFoods.append(\"Cheesburgers\")\n",
    "\n",
    "myFavoriteFoods.append(\"Tri-tip sandwich\")\n",
    "\n",
    "print(myFavoriteFoods.length)"
   ]
  },
  {
   "cell_type": "markdown",
   "metadata": {},
   "source": [
    "### Hack #3 in Javascript (for bonus)"
   ]
  },
  {
   "cell_type": "code",
   "execution_count": null,
   "metadata": {
    "vscode": {
     "languageId": "javascript"
    }
   },
   "outputs": [],
   "source": [
    "%%js\n",
    "\n",
    "let myFavoriteFoods = [\"Ribeye\", \"Alaskan Black Cod\", \"Filet Mignon\", \"Fish Tacos\", \"pizza\"];\n",
    "\n",
    "myFavoriteFoods.push(\"Cheesburgers\");\n",
    "\n",
    "myFavoriteFoods.push(\"Tri-tip sandwich\");\n",
    "\n",
    "console.log(myFavoriteFoods.length);"
   ]
  },
  {
   "cell_type": "markdown",
   "metadata": {},
   "source": [
    "### Hack #4"
   ]
  },
  {
   "cell_type": "code",
   "execution_count": null,
   "metadata": {},
   "outputs": [],
   "source": [
    "nums = [1, 2, 3, 4, 5, 6, 7, 8, 9, 10]\n",
    "\n",
    "totalOfEvenNumbers = 0\n",
    "\n",
    "for num in nums:\n",
    "\n",
    "    if (num % 2 == 0): # checking if even\n",
    "         \n",
    "        totalOfEvenNumbers += num"
   ]
  },
  {
   "cell_type": "markdown",
   "metadata": {},
   "source": [
    "### Hack #4 in Javascript (for bonus)"
   ]
  },
  {
   "cell_type": "code",
   "execution_count": null,
   "metadata": {
    "vscode": {
     "languageId": "javascript"
    }
   },
   "outputs": [],
   "source": [
    "%%js\n",
    "\n",
    "const nums = [1, 2, 3, 4, 5, 6, 7, 8, 9, 10];\n",
    "\n",
    "let totalOfEvenNumbers = 0;\n",
    "\n",
    "for (const num of nums) {\n",
    "    if (num % 2 === 0) { // checking if even\n",
    "        totalOfEvenNumbers += num;\n",
    "    }\n",
    "}"
   ]
  },
  {
   "cell_type": "markdown",
   "metadata": {},
   "source": [
    "### Hack #5"
   ]
  },
  {
   "cell_type": "code",
   "execution_count": 1,
   "metadata": {},
   "outputs": [
    {
     "name": "stdout",
     "output_type": "stream",
     "text": [
      "there is a banana in index  1\n"
     ]
    }
   ],
   "source": [
    "fruits = [\"apple\", \"banana\", \"orange\"]\n",
    "index = 0\n",
    "\n",
    "for fruit in fruits:\n",
    "    if (fruit == \"banana\"):\n",
    "        print(\"there is a banana in index\", index)\n",
    "    index += 1"
   ]
  },
  {
   "cell_type": "markdown",
   "metadata": {},
   "source": [
    "### Hack #5 in Javascript (for bonus)"
   ]
  },
  {
   "cell_type": "code",
   "execution_count": null,
   "metadata": {
    "vscode": {
     "languageId": "javascript"
    }
   },
   "outputs": [],
   "source": [
    "%%js\n",
    "\n",
    "const fruits = [\"apple\", \"banana\", \"orange\"];\n",
    "let index = 0;\n",
    "\n",
    "for (const fruit of fruits) {\n",
    "    if (fruit === \"banana\") {\n",
    "        console.log(\"there is a banana in index\", index);\n",
    "    }\n",
    "    index += 1;\n",
    "}"
   ]
  },
  {
   "cell_type": "markdown",
   "metadata": {},
   "source": [
    "## Homework Hacks\n",
    "\n",
    "### Hack #1"
   ]
  },
  {
   "cell_type": "code",
   "execution_count": null,
   "metadata": {},
   "outputs": [],
   "source": [
    "# Create a list of numbers\n",
    "numbers = [10, 20, 30, 40, 50]\n",
    "\n",
    "# Print the second element in the list\n",
    "print(numbers[1])  # Indexing starts from 0, so 1 refers to the second element"
   ]
  },
  {
   "cell_type": "markdown",
   "metadata": {},
   "source": [
    "### Hack #2"
   ]
  },
  {
   "cell_type": "code",
   "execution_count": null,
   "metadata": {
    "vscode": {
     "languageId": "javascript"
    }
   },
   "outputs": [],
   "source": [
    "%%js\n",
    "\n",
    "// Create an array of numbers\n",
    "let numbers = [10, 20, 30, 40, 50];\n",
    "\n",
    "// Log the second element in the array\n",
    "console.log(numbers[1]);  // Indexing starts from 0, so 1 refers to the second element"
   ]
  },
  {
   "cell_type": "markdown",
   "metadata": {},
   "source": [
    "### Hack #3"
   ]
  },
  {
   "cell_type": "code",
   "execution_count": null,
   "metadata": {},
   "outputs": [],
   "source": [
    "# To-do list application\n",
    "\n",
    "def show_menu():\n",
    "    print(\"\\n--- To-Do List Menu ---\")\n",
    "    print(\"1. View to-do list\")\n",
    "    print(\"2. Add item to to-do list\")\n",
    "    print(\"3. Remove item from to-do list\")\n",
    "    print(\"4. Exit\")\n",
    "\n",
    "def view_list(todo_list):\n",
    "    if not todo_list:\n",
    "        print(\"Your to-do list is empty.\")\n",
    "    else:\n",
    "        print(\"\\nYour to-do list:\")\n",
    "        for i, item in enumerate(todo_list, 1):\n",
    "            print(f\"{i}. {item}\")\n",
    "\n",
    "def add_item(todo_list):\n",
    "    item = input(\"Enter the task you want to add: \")\n",
    "    todo_list.append(item)\n",
    "    print(f\"'{item}' has been added to your to-do list.\")\n",
    "\n",
    "def remove_item(todo_list):\n",
    "    view_list(todo_list)\n",
    "    if todo_list:\n",
    "        try:\n",
    "            item_number = int(input(\"\\nEnter the number of the task you want to remove: \"))\n",
    "            removed_item = todo_list.pop(item_number - 1)\n",
    "            print(f\"'{removed_item}' has been removed from your to-do list.\")\n",
    "        except (ValueError, IndexError):\n",
    "            print(\"Invalid input. Please enter a valid number.\")\n",
    "\n",
    "def main():\n",
    "    todo_list = []\n",
    "    \n",
    "    while True:\n",
    "        show_menu()\n",
    "        choice = input(\"\\nEnter your choice (1-4): \")\n",
    "        \n",
    "        if choice == '1':\n",
    "            view_list(todo_list)\n",
    "        elif choice == '2':\n",
    "            add_item(todo_list)\n",
    "        elif choice == '3':\n",
    "            remove_item(todo_list)\n",
    "        elif choice == '4':\n",
    "            print(\"Goodbye!\")\n",
    "            break\n",
    "        else:\n",
    "            print(\"Invalid choice. Please enter a number between 1 and 4.\")\n",
    "\n",
    "if __name__ == \"__main__\":\n",
    "    main()"
   ]
  },
  {
   "cell_type": "markdown",
   "metadata": {},
   "source": [
    "### Hack #4"
   ]
  },
  {
   "cell_type": "code",
   "execution_count": null,
   "metadata": {
    "vscode": {
     "languageId": "javascript"
    }
   },
   "outputs": [],
   "source": [
    "%%js\n",
    "\n",
    "// Workout tracker application\n",
    "\n",
    "let workoutLog = [];\n",
    "\n",
    "function showMenu() {\n",
    "    console.log(\"\\n--- Workout Tracker Menu ---\");\n",
    "    console.log(\"1. View workout log\");\n",
    "    console.log(\"2. Add workout\");\n",
    "    console.log(\"3. Exit\");\n",
    "}\n",
    "\n",
    "function viewWorkouts() {\n",
    "    if (workoutLog.length === 0) {\n",
    "        console.log(\"Your workout log is empty.\");\n",
    "    } else {\n",
    "        console.log(\"\\nYour workout log:\");\n",
    "        workoutLog.forEach((workout, index) => {\n",
    "            console.log(`${index + 1}. Type: ${workout.type}, Duration: ${workout.duration} mins, Calories: ${workout.calories} kcal`);\n",
    "        });\n",
    "    }\n",
    "}\n",
    "\n",
    "function addWorkout() {\n",
    "    const type = prompt(\"Enter the workout type (e.g., Running, Swimming, etc.):\");\n",
    "    const duration = parseFloat(prompt(\"Enter the duration of the workout in minutes:\"));\n",
    "    const calories = parseFloat(prompt(\"Enter the calories burned during the workout:\"));\n",
    "\n",
    "    if (isNaN(duration) || isNaN(calories)) {\n",
    "        console.log(\"Invalid input. Please enter valid numbers for duration and calories.\");\n",
    "        return;\n",
    "    }\n",
    "\n",
    "    const workout = {\n",
    "        type: type,\n",
    "        duration: duration,\n",
    "        calories: calories\n",
    "    };\n",
    "\n",
    "    workoutLog.push(workout);\n",
    "    console.log(\"Workout added successfully!\");\n",
    "}\n",
    "\n",
    "function main() {\n",
    "    while (true) {\n",
    "        showMenu();\n",
    "        const choice = prompt(\"Enter your choice (1-3):\");\n",
    "\n",
    "        if (choice === '1') {\n",
    "            viewWorkouts();\n",
    "        } else if (choice === '2') {\n",
    "            addWorkout();\n",
    "        } else if (choice === '3') {\n",
    "            console.log(\"Goodbye!\");\n",
    "            break;\n",
    "        } else {\n",
    "            console.log(\"Invalid choice. Please enter a number between 1 and 3.\");\n",
    "        }\n",
    "    }\n",
    "}\n",
    "\n",
    "main();"
   ]
  }
 ],
 "metadata": {
  "kernelspec": {
   "display_name": "Python 3",
   "language": "python",
   "name": "python3"
  },
  "language_info": {
   "codemirror_mode": {
    "name": "ipython",
    "version": 3
   },
   "file_extension": ".py",
   "mimetype": "text/x-python",
   "name": "python",
   "nbconvert_exporter": "python",
   "pygments_lexer": "ipython3",
   "version": "3.10.12"
  }
 },
 "nbformat": 4,
 "nbformat_minor": 2
}
