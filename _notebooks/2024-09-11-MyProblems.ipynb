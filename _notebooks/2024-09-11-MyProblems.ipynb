{
 "cells": [
  {
   "cell_type": "raw",
   "metadata": {
    "vscode": {
     "languageId": "raw"
    }
   },
   "source": [
    "---\n",
    "layout: page\n",
    "title: My Problems\n",
    "description: My Problems\n",
    "permalink: /posts/myproblems/\n",
    "comments: false\n",
    "---"
   ]
  },
  {
   "cell_type": "markdown",
   "metadata": {},
   "source": [
    "Problem: I was having difficulties with getting the kernel for juptyer notebooks\n",
    "Solution: I had to reinstall Python with wsl though vscode\n",
    "\n",
    "Problem: My Jupyter notebook for this notebook was not showing up as a clone in posts\n",
    "Solution: I had to move this notebook into the notebooks directory\n",
    "\n",
    "Problem: My images weren't working for downloaded custom images\n",
    "Solution: I had the incorrect syntax and had to add somehting to the image line\n",
    "\n",
    "Problem: My links aren't working to direct me to this page from my home screen\n",
    "Solution: Spelling for my directory was incorrect\n",
    "\n",
    "<script src=\"https://utteranc.es/client.js\"\n",
    "        repo=\"nighthawkcoders/portfolio_2025\"\n",
    "        issue-term=\"title\"\n",
    "        label=\"blogpost-comment\"\n",
    "        theme=\"github-light\"\n",
    "        crossorigin=\"anonymous\"\n",
    "        async>\n",
    "</script>\n",
    "-->"
   ]
  }
 ],
 "metadata": {
  "kernelspec": {
   "display_name": "venv",
   "language": "python",
   "name": "python3"
  },
  "language_info": {
   "codemirror_mode": {
    "name": "ipython",
    "version": 3
   },
   "file_extension": ".py",
   "mimetype": "text/x-python",
   "name": "python",
   "nbconvert_exporter": "python",
   "pygments_lexer": "ipython3",
   "version": "3.10.12"
  }
 },
 "nbformat": 4,
 "nbformat_minor": 2
}
