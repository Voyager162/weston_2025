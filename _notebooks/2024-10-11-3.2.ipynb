{
 "cells": [
  {
   "cell_type": "raw",
   "metadata": {
    "vscode": {
     "languageId": "raw"
    }
   },
   "source": [
    "---\n",
    "layout: page\n",
    "title: 3.2 Homework and Popcorn hacks\n",
    "permalink: /posts/3.2/\n",
    "---"
   ]
  },
  {
   "cell_type": "markdown",
   "metadata": {},
   "source": [
    "# 3.2 Hacks\n",
    "\n",
    "## Popcorn Hacks\n",
    "\n",
    "### Hack #1 (with bonus)"
   ]
  },
  {
   "cell_type": "code",
   "execution_count": null,
   "metadata": {},
   "outputs": [],
   "source": [
    "# Step 1: Create a Set\n",
    "my_set = {1, 2, 3, 4, 5}\n",
    "print(\"Initial Set:\", my_set)\n",
    "\n",
    "# Step 2: Add an Element\n",
    "my_set.add(6)\n",
    "print(\"Set after adding 6:\", my_set)\n",
    "\n",
    "# Step 3: Remove an Element\n",
    "my_set.remove(2)\n",
    "print(\"Set after removing 2:\", my_set)\n",
    "\n",
    "# Step 4: Union of Sets\n",
    "union_set = my_set.union({7, 8, 9})\n",
    "print(\"Union of sets:\", union_set)\n",
    "\n",
    "# Step 5: Clear the Set\n",
    "my_set.clear()\n",
    "print(\"Set after clearing:\", my_set)\n",
    "\n",
    "# Bonus: Create a set with duplicates\n",
    "duplicate_set = {1, 2, 2, 3, 3, 4}\n",
    "print(\"Set with duplicates removed:\", duplicate_set)\n",
    "print(\"Length of the set:\", len(duplicate_set))"
   ]
  },
  {
   "cell_type": "markdown",
   "metadata": {},
   "source": [
    "### Hack #2 (with bonus)"
   ]
  },
  {
   "cell_type": "code",
   "execution_count": null,
   "metadata": {},
   "outputs": [],
   "source": [
    "# Step 1: Create a String\n",
    "my_string = \"Learning Python is not fun\"\n",
    "print(\"Original String:\", my_string)\n",
    "\n",
    "# Step 2: String Length\n",
    "length_of_string = len(my_string)\n",
    "print(\"Length of the string:\", length_of_string)\n",
    "\n",
    "# Step 3: String Slicing\n",
    "python_substring = my_string[9:15]\n",
    "print(\"Extracted 'Python':\", python_substring)\n",
    "\n",
    "# Step 4: String Uppercase\n",
    "uppercase_string = my_string.upper()\n",
    "print(\"Uppercase String:\", uppercase_string)\n",
    "\n",
    "# Step 5: String Replace\n",
    "replaced_string = my_string.replace(\"fun\", \"good\")\n",
    "print(\"String after replacement:\", replaced_string)\n",
    "\n",
    "# Bonus: Reverse the string using slicing\n",
    "reversed_string = my_string[::-1]\n",
    "print(\"Reversed String:\", reversed_string)"
   ]
  },
  {
   "cell_type": "markdown",
   "metadata": {},
   "source": [
    "### Hack #3 (with bonus)"
   ]
  },
  {
   "cell_type": "code",
   "execution_count": null,
   "metadata": {},
   "outputs": [],
   "source": [
    "# Step 1: Create a List\n",
    "my_list = [3, 5, 7, 9, 11]\n",
    "print(\"Original List:\", my_list)\n",
    "\n",
    "# Step 2: Access an Element\n",
    "third_element = my_list[2]\n",
    "print(\"Third element:\", third_element)\n",
    "\n",
    "# Step 3: Modify an Element\n",
    "my_list[1] = 6\n",
    "print(\"List after modifying second element:\", my_list)\n",
    "\n",
    "# Step 4: Add an Element\n",
    "my_list.append(13)\n",
    "print(\"List after appending 13:\", my_list)\n",
    "\n",
    "# Step 5: Remove an Element\n",
    "my_list.remove(9)\n",
    "print(\"List after removing 9:\", my_list)\n",
    "\n",
    "# Bonus: Sort the list in descending order\n",
    "my_list.sort(reverse=True)\n",
    "print(\"List sorted in descending order:\", my_list)"
   ]
  },
  {
   "cell_type": "markdown",
   "metadata": {},
   "source": [
    "### Hack #4 (with bonus)"
   ]
  },
  {
   "cell_type": "code",
   "execution_count": null,
   "metadata": {},
   "outputs": [],
   "source": [
    "# Step 1: Create a Dictionary\n",
    "personal_info = {\n",
    "    \"name\": \"John Doe\",\n",
    "    \"email\": \"johndoe@example.com\",\n",
    "    \"phone number\": \"123-456-7890\"\n",
    "}\n",
    "\n",
    "# Step 2: Print out the Dictionary\n",
    "print(\"Personal Info Dictionary:\", personal_info)\n",
    "\n",
    "# Step 3: Print out the name from the dictionary\n",
    "print(\"My Name is:\", personal_info[\"name\"])\n",
    "\n",
    "# Step 4: Print the Length\n",
    "print(\"Length of the Dictionary:\", len(personal_info))\n",
    "\n",
    "# Step 5: Print the Type\n",
    "print(\"Type of the Dictionary:\", type(personal_info))\n",
    "\n",
    "# Bonus: Add another dictionary and print their values\n",
    "another_person_info = {\n",
    "    \"name\": \"Jane Smith\",\n",
    "    \"email\": \"janesmith@example.com\",\n",
    "    \"phone number\": \"987-654-3210\"\n",
    "}\n",
    "\n",
    "print(\"\\nAnother Person's Info:\")\n",
    "print(\"Name:\", another_person_info[\"name\"])\n",
    "print(\"Email:\", another_person_info[\"email\"])\n",
    "print(\"Phone Number:\", another_person_info[\"phone number\"])"
   ]
  },
  {
   "cell_type": "markdown",
   "metadata": {},
   "source": [
    "## Homework hacks\n",
    "\n",
    "### Hack #1"
   ]
  },
  {
   "cell_type": "code",
   "execution_count": null,
   "metadata": {},
   "outputs": [],
   "source": [
    "# Part 1: Create Personal Info (dict)\n",
    "personal_info = {\n",
    "    \"full_name\": \"John Doe\",\n",
    "    \"years\": 30,\n",
    "    \"location\": \"New York\",\n",
    "    \"favorite_food\": \"Pizza\"\n",
    "}\n",
    "print(\"Part 1 - Personal Info:\", personal_info)\n",
    "\n",
    "# Part 2: Create a List of Activities (list)\n",
    "activities = [\"Reading\", \"Cycling\", \"Cooking\"]\n",
    "print(\"\\nPart 2 - Activities:\", activities)\n",
    "\n",
    "# Part 3: Add Activities to Personal Info (dict and list)\n",
    "personal_info[\"activities\"] = activities\n",
    "print(\"\\nPart 3 - Updated Personal Info:\", personal_info)\n",
    "\n",
    "# Part 4: Check Availability of an Activity (bool)\n",
    "activity_available = False  # Example: \"Cycling\" is not available today\n",
    "print(f\"\\nPart 4 - Is Cycling available today? {activity_available}\")\n",
    "\n",
    "# Part 5: Total Number of Activities (int)\n",
    "total_activities = len(activities)\n",
    "print(f\"\\nPart 5 - I have {total_activities} activities.\")\n",
    "\n",
    "# Part 6: Favorite Activities (tuple)\n",
    "favorite_activities = (\"Reading\", \"Cycling\")  # Top 2 favorite activities\n",
    "print(\"\\nPart 6 - Favorite Activities:\", favorite_activities)\n",
    "\n",
    "# Part 7: Add a New Set of Skills (set)\n",
    "skills = {\"Python\", \"Public Speaking\", \"Photography\"}\n",
    "print(\"\\nPart 7 - Skills Set:\", skills)\n",
    "\n",
    "# Part 8: Consider a New Skill (NoneType)\n",
    "new_skill = None\n",
    "print(\"\\nPart 8 - New Skill:\", new_skill)\n",
    "\n",
    "# Part 9: Calculate Total Hobby and Skill Cost (float)\n",
    "cost_per_activity = 5\n",
    "cost_per_skill = 10\n",
    "total_cost = total_activities * cost_per_activity + len(skills) * cost_per_skill\n",
    "print(f\"\\nPart 9 - Total Cost for Hobbies and Skills: ${total_cost:.2f}\")\n"
   ]
  },
  {
   "cell_type": "markdown",
   "metadata": {},
   "source": [
    "## JavaScript popcorn hacks\n",
    "\n",
    "### Hack #1"
   ]
  },
  {
   "cell_type": "code",
   "execution_count": null,
   "metadata": {
    "vscode": {
     "languageId": "javascript"
    }
   },
   "outputs": [],
   "source": [
    "%%js\n",
    "\n",
    "// Step 1: Create a set called Set1 of 3 numbers\n",
    "let Set1 = new Set([1, 2, 3]);\n",
    "\n",
    "// Step 2: Create a set called Set2 of different 3 numbers\n",
    "let Set2 = new Set([4, 5, 6]);\n",
    "\n",
    "// Log both sets separately\n",
    "console.log(\"Set1:\", Set1);\n",
    "console.log(\"Set2:\", Set2);\n",
    "\n",
    "// Step 3: Add a number to Set1 and remove the 1st number (1 in this case)\n",
    "Set1.add(7);\n",
    "Set1.delete(1);\n",
    "\n",
    "// Log the updated Set1\n",
    "console.log(\"Updated Set1:\", Set1);\n",
    "\n",
    "// Step 4: Log the union of both Set1 and Set2\n",
    "let unionSet = new Set([...Set1, ...Set2]);\n",
    "console.log(\"Union of Set1 and Set2:\", unionSet);"
   ]
  },
  {
   "cell_type": "markdown",
   "metadata": {},
   "source": [
    "### Hack #2"
   ]
  },
  {
   "cell_type": "code",
   "execution_count": null,
   "metadata": {
    "vscode": {
     "languageId": "javascript"
    }
   },
   "outputs": [],
   "source": [
    "%%js\n",
    "\n",
    "// Step 1: Create a Dictionary called \"application\"\n",
    "let application = {\n",
    "    name: \"Alice Smith\",\n",
    "    age: 28,\n",
    "    experiences: [\"Software Developer\", \"Project Manager\", \"UX Designer\"],\n",
    "    money: 1500\n",
    "};\n",
    "\n",
    "// Step 2: Log the dictionary to make sure it works\n",
    "console.log(\"Application Dictionary:\", application);\n",
    "\n",
    "// Step 3: Log only the dictionary's money\n",
    "console.log(\"Money:\", application.money);"
   ]
  },
  {
   "cell_type": "markdown",
   "metadata": {},
   "source": [
    "## Homework Hacks\n",
    "\n",
    "### Hack #1"
   ]
  },
  {
   "cell_type": "code",
   "execution_count": null,
   "metadata": {
    "vscode": {
     "languageId": "javascript"
    }
   },
   "outputs": [],
   "source": [
    "%%js\n",
    "\n",
    "// Function to collect applicant information\n",
    "function collectApplicantInfo() {\n",
    "    // Step 1: Ask the applicant for their name\n",
    "    let name = prompt(\"Please enter your name:\");\n",
    "\n",
    "    // Step 2: Ask the applicant for their age\n",
    "    let age = prompt(\"Please enter your age:\");\n",
    "\n",
    "    // Step 3: Ask the applicant for their experiences\n",
    "    let experiences = prompt(\"Please list your experiences (separated by commas):\");\n",
    "\n",
    "    // Step 4: Store inputs in a dictionary (object)\n",
    "    let application = {\n",
    "        name: name,\n",
    "        age: age,\n",
    "        experiences: experiences.split(',').map(exp => exp.trim()) // Split experiences into an array\n",
    "    };\n",
    "\n",
    "    // Step 5: Log the user's input\n",
    "    console.log(\"Application Dictionary:\", application);\n",
    "}\n",
    "\n",
    "// Call the function to run the application\n",
    "collectApplicantInfo();"
   ]
  }
 ],
 "metadata": {
  "language_info": {
   "name": "python"
  }
 },
 "nbformat": 4,
 "nbformat_minor": 2
}
