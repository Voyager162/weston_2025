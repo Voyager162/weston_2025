{
 "cells": [
  {
   "cell_type": "raw",
   "id": "7c364261",
   "metadata": {
    "vscode": {
     "languageId": "raw"
    }
   },
   "source": [
    "---\n",
    "layout: page\n",
    "title: Binary Base Homework and Popcorn hacks\n",
    "permalink: /posts/binayBase/\n",
    "---"
   ]
  },
  {
   "cell_type": "markdown",
   "id": "98c2f662",
   "metadata": {},
   "source": [
    "## Popcorn Hack #1\n"
   ]
  },
  {
   "cell_type": "code",
   "execution_count": null,
   "id": "2904e78a",
   "metadata": {},
   "outputs": [
    {
     "name": "stdout",
     "output_type": "stream",
     "text": [
      "The decimal equivalent of binary 110101011 is 427.\n"
     ]
    }
   ],
   "source": [
    "# Binary to Decimal Calculator\n",
    "\n",
    "def binary_to_decimal(binary_str):\n",
    "    try:\n",
    "        decimal_value = int(binary_str, 2)\n",
    "        return decimal_value\n",
    "    except ValueError:\n",
    "        return \"Invalid binary input. Please enter a valid binary number.\"\n",
    "\n",
    "# Example usage\n",
    "binary_input = input(\"Enter a binary number: \")\n",
    "decimal_output = binary_to_decimal(binary_input)\n",
    "print(f\"The decimal equivalent of binary {binary_input} is {decimal_output}.\")"
   ]
  },
  {
   "cell_type": "markdown",
   "id": "29c7b386",
   "metadata": {},
   "source": [
    "## Popcorn Hack #2"
   ]
  },
  {
   "cell_type": "code",
   "execution_count": 2,
   "id": "ef9b0a88",
   "metadata": {},
   "outputs": [
    {
     "name": "stdout",
     "output_type": "stream",
     "text": [
      "Add the following binary numbers:\n",
      "Number 1: 101101\n",
      "Number 2: 111111\n",
      "Correct! You took 31.05 seconds.\n",
      "Your score: +10 points!\n"
     ]
    }
   ],
   "source": [
    "import random\n",
    "import time\n",
    "\n",
    "def binary_addition_battle():\n",
    "    # Generate two random binary numbers (up to 8 bits)\n",
    "    num1 = bin(random.randint(0, 255))[2:]\n",
    "    num2 = bin(random.randint(0, 255))[2:]\n",
    "    \n",
    "    # Show the binary numbers\n",
    "    print(f\"Add the following binary numbers:\")\n",
    "    print(f\"Number 1: {num1}\")\n",
    "    print(f\"Number 2: {num2}\")\n",
    "    \n",
    "    # Start the timer\n",
    "    start_time = time.time()\n",
    "    \n",
    "    # Ask the user for the sum\n",
    "    user_answer = input(\"Your answer (in binary): \")\n",
    "    \n",
    "    # End the timer\n",
    "    end_time = time.time()\n",
    "    \n",
    "    # Calculate the correct binary sum\n",
    "    correct_answer = bin(int(num1, 2) + int(num2, 2))[2:]\n",
    "    \n",
    "    # Check if the answer is correct\n",
    "    if user_answer == correct_answer:\n",
    "        print(f\"Correct! You took {end_time - start_time:.2f} seconds.\")\n",
    "        print(f\"Your score: +10 points!\")\n",
    "    else:\n",
    "        print(f\"Oops! The correct answer was {correct_answer}.\")\n",
    "        print(f\"Your score: -5 points.\")\n",
    "\n",
    "# Run the game\n",
    "binary_addition_battle()"
   ]
  },
  {
   "cell_type": "markdown",
   "id": "e61da973",
   "metadata": {},
   "source": [
    "## Homeowork Hack #1\n",
    "\n",
    "To convert a binary number to decimal, multiply each bit by 2^n (where n is the position of the bit from right to left, starting at 0) and then add all the results together.\n",
    "\n",
    "For the binary number 11111111, the decimal equivalent is: 255"
   ]
  }
 ],
 "metadata": {
  "kernelspec": {
   "display_name": "venv",
   "language": "python",
   "name": "python3"
  },
  "language_info": {
   "codemirror_mode": {
    "name": "ipython",
    "version": 3
   },
   "file_extension": ".py",
   "mimetype": "text/x-python",
   "name": "python",
   "nbconvert_exporter": "python",
   "pygments_lexer": "ipython3",
   "version": "3.10.12"
  }
 },
 "nbformat": 4,
 "nbformat_minor": 5
}
