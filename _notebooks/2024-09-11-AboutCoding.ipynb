{
 "cells": [
  {
   "cell_type": "markdown",
   "metadata": {},
   "source": [
    "---\n",
    "layout: page\n",
    "title: About Coding\n",
    "permalink: /posts/aboutcoding/\n",
    "---"
   ]
  },
  {
   "cell_type": "code",
   "execution_count": 6,
   "metadata": {
    "vscode": {
     "languageId": "html"
    }
   },
   "outputs": [
    {
     "ename": "SyntaxError",
     "evalue": "unterminated string literal (detected at line 27) (1794460369.py, line 27)",
     "output_type": "error",
     "traceback": [
      "\u001b[0;36m  Cell \u001b[0;32mIn[6], line 27\u001b[0;36m\u001b[0m\n\u001b[0;31m    There are many more languages and types of languages that I can't list here, but you can find them here <a href = \"https://en.wikipedia.org/wiki/List_of_programming_languages\"><button>Wiki Page</button></a>\u001b[0m\n\u001b[0m                                                                   ^\u001b[0m\n\u001b[0;31mSyntaxError\u001b[0m\u001b[0;31m:\u001b[0m unterminated string literal (detected at line 27)\n"
     ]
    }
   ],
   "source": [
    "<html lang=\"en\">\n",
    "    <body>\n",
    "        <p>\n",
    "            There are many languages in the programming industry and are seperated into many categories<br>Compiled languages: <a href = \"https://en.wikipedia.org/wiki/Compiled_language\"><button>Wiki Page</button></a><br><br>\n",
    "            C<br>\n",
    "            C++<br>\n",
    "            C#<br>\n",
    "            ALGOL<br>\n",
    "            Cobol<br>\n",
    "            Fortran<br>\n",
    "            Java<br>\n",
    "            Visual Basic<br>\n",
    "            Smalltalk<br><br>\n",
    "            Markup Languages: <a href = \"https://en.wikipedia.org/wiki/Markup_language\"><button>Wiki Page</button></a><br><br>\n",
    "            HTML<br>\n",
    "            XML<br>\n",
    "            XHTML<br>\n",
    "            SGML<br>\n",
    "            Curl<br><br>\n",
    "            Object-Oriented Languages: <a href = \"https://en.wikipedia.org/wiki/Object-oriented_programming\"><button>Wiki Page</button></a><br><br>\n",
    "            Scala<br>\n",
    "            C++<br>\n",
    "            Java<br>\n",
    "            Python<br>\n",
    "            C#<br>\n",
    "            Ruby<br><br>\n",
    "            There are many more languages and types of languages that I can't list here, but you can find them here <a href = \"https://en.wikipedia.org/wiki/List_of_programming_languages\"><button>Wiki Page</button></a>\n",
    "        </p>\n",
    "    </body>\n",
    "</html>"
   ]
  }
 ],
 "metadata": {
  "kernelspec": {
   "display_name": "venv",
   "language": "python",
   "name": "python3"
  },
  "language_info": {
   "codemirror_mode": {
    "name": "ipython",
    "version": 3
   },
   "file_extension": ".py",
   "mimetype": "text/x-python",
   "name": "python",
   "nbconvert_exporter": "python",
   "pygments_lexer": "ipython3",
   "version": "3.10.12"
  }
 },
 "nbformat": 4,
 "nbformat_minor": 2
}
