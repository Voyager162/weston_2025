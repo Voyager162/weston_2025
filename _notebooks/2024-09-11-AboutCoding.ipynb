{
 "cells": [
  {
   "cell_type": "markdown",
   "metadata": {},
   "source": [
    "---\n",
    "layout: page\n",
    "title: About Coding\n",
    "permalink: /posts/aboutcoding/\n",
    "---"
   ]
  },
  {
   "cell_type": "markdown",
   "metadata": {
    "vscode": {
     "languageId": "html"
    }
   },
   "source": [
    "<html lang=\"en\">\n",
    "    <body>\n",
    "        <p>\n",
    "            There are many languages in the programming industry and are seperated into many categories<br>Compiled languages: <a href = \"https://en.wikipedia.org/wiki/Compiled_language\"><button>Wiki Page</button></a><br><br>\n",
    "            C<br>\n",
    "            C++<br>\n",
    "            C#<br>\n",
    "            ALGOL<br>\n",
    "            Cobol<br>\n",
    "            Fortran<br>\n",
    "            Java<br>\n",
    "            Visual Basic<br>\n",
    "            Smalltalk<br><br>\n",
    "            Markup Languages: <a href = \"https://en.wikipedia.org/wiki/Markup_language\"><button>Wiki Page</button></a><br><br>\n",
    "            HTML<br>\n",
    "            XML<br>\n",
    "            XHTML<br>\n",
    "            SGML<br>\n",
    "            Curl<br><br>\n",
    "            Object-Oriented Languages: <a href = \"https://en.wikipedia.org/wiki/Object-oriented_programming\"><button>Wiki Page</button></a><br><br>\n",
    "            Scala<br>\n",
    "            C++<br>\n",
    "            Java<br>\n",
    "            Python<br>\n",
    "            C#<br>\n",
    "            Ruby<br><br>\n",
    "            There are many more languages and types of languages that I can't list here, but you can find them here <a href = \"https://en.wikipedia.org/wiki/List_of_programming_languages\"><button>Wiki Page</button></a>\n",
    "        </p>\n",
    "    </body>\n",
    "</html>\n",
    "\n",
    "<script src=\"https://utteranc.es/client.js\"\n",
    "        repo=\"nighthawkcoders/portfolio_2025\"\n",
    "        issue-term=\"title\"\n",
    "        label=\"blogpost-comment\"\n",
    "        theme=\"github-light\"\n",
    "        crossorigin=\"anonymous\"\n",
    "        async>\n",
    "</script>\n",
    "-->"
   ]
  }
 ],
 "metadata": {
  "kernelspec": {
   "display_name": "venv",
   "language": "python",
   "name": "python3"
  },
  "language_info": {
   "codemirror_mode": {
    "name": "ipython",
    "version": 3
   },
   "file_extension": ".py",
   "mimetype": "text/x-python",
   "name": "python",
   "nbconvert_exporter": "python",
   "pygments_lexer": "ipython3",
   "version": "3.10.12"
  }
 },
 "nbformat": 4,
 "nbformat_minor": 2
}
