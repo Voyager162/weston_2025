{
 "cells": [
  {
   "cell_type": "raw",
   "id": "ce9f28cc",
   "metadata": {
    "vscode": {
     "languageId": "raw"
    }
   },
   "source": [
    "---\n",
    "layout: page\n",
    "title: Base 64 Homework and Popcorn hacks\n",
    "permalink: /posts/base64/\n",
    "---"
   ]
  },
  {
   "cell_type": "markdown",
   "id": "fb2c5ace",
   "metadata": {},
   "source": [
    "## Popcorn Hack #1\n",
    "\n",
    "If you want to have an overlay or a background that is slightly transparent"
   ]
  }
 ],
 "metadata": {
  "language_info": {
   "name": "python"
  }
 },
 "nbformat": 4,
 "nbformat_minor": 5
}
