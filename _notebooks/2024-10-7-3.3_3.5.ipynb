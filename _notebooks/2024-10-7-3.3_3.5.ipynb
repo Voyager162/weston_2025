{
 "cells": [
  {
   "cell_type": "raw",
   "metadata": {
    "vscode": {
     "languageId": "raw"
    }
   },
   "source": [
    "---\n",
    "layout: page\n",
    "title: 3.3 and 3.5 Homework and Popcorn hacks\n",
    "permalink: /posts/3.3_3.5/\n",
    "---"
   ]
  },
  {
   "cell_type": "markdown",
   "metadata": {},
   "source": [
    "# 3.3\n",
    "\n",
    "## Popcorn Hacks\n",
    "\n",
    "### Hack #1"
   ]
  },
  {
   "cell_type": "code",
   "execution_count": 2,
   "metadata": {},
   "outputs": [
    {
     "name": "stdout",
     "output_type": "stream",
     "text": [
      "That number is greater than or equal to zero\n",
      "That number is less than zero\n",
      "You didn't put in a number you silly goose\n"
     ]
    },
    {
     "ename": "SystemExit",
     "evalue": "Stopping",
     "output_type": "error",
     "traceback": [
      "An exception has occurred, use %tb to see the full traceback.\n",
      "\u001b[0;31mSystemExit\u001b[0m\u001b[0;31m:\u001b[0m Stopping\n"
     ]
    }
   ],
   "source": [
    "import sys  # for stopping the program\n",
    "\n",
    "def checksIfLessThanZero():\n",
    "    while True:\n",
    "        try:\n",
    "            number = input(\"Give me a number or say STOP to stop: \")\n",
    "            if number == \"STOP\":\n",
    "                sys.exit(\"Stopping\")\n",
    "            number = int(number)  # Only convert to int if it's not STOP\n",
    "        except ValueError:  # Catch specific errors related to invalid input\n",
    "            print(\"You didn't put in a number you silly goose\")\n",
    "            continue\n",
    "        else:\n",
    "            break\n",
    "\n",
    "    if number < 0:\n",
    "        print(\"That number is less than zero\")\n",
    "    else:\n",
    "        print(\"That number is greater than or equal to zero\")\n",
    "\n",
    "while True:\n",
    "    checksIfLessThanZero()"
   ]
  },
  {
   "cell_type": "markdown",
   "metadata": {},
   "source": [
    "### Hack #2"
   ]
  },
  {
   "cell_type": "code",
   "execution_count": 3,
   "metadata": {},
   "outputs": [
    {
     "name": "stdout",
     "output_type": "stream",
     "text": [
      "The student passed both subjects.\n",
      "The student only passed the second class\n",
      "The student only passed the first class\n",
      "The student is a silly goose and did not pass either classes\n",
      "you're a silly goose, enter a real number\n"
     ]
    },
    {
     "ename": "SystemExit",
     "evalue": "Stopping",
     "output_type": "error",
     "traceback": [
      "An exception has occurred, use %tb to see the full traceback.\n",
      "\u001b[0;31mSystemExit\u001b[0m\u001b[0;31m:\u001b[0m Stopping\n"
     ]
    }
   ],
   "source": [
    "import sys # For exiting the program\n",
    "\n",
    "\n",
    "def checkScores():\n",
    "\n",
    "\n",
    "    while True:\n",
    "\n",
    "\n",
    "        score1 = input(\"Enter the first score or say STOP to end the program: \")\n",
    "\n",
    "\n",
    "        if (score1 == \"STOP\"): sys.exit(\"Stopping\")\n",
    "\n",
    "        score2 = input(\"Enter the second score: \")\n",
    "\n",
    "        try:\n",
    "            score1 = float(score1)\n",
    "            score2 = float(score2)\n",
    "\n",
    "        except: print(\"you're a silly goose, enter a real number\")\n",
    "\n",
    "        else: break\n",
    "\n",
    "    if score1 >= 70 and score2 >= 70: print(\"The student passed both subjects.\")\n",
    "\n",
    "    elif score1 >= 70: print(\"The student only passed the first class\")\n",
    "\n",
    "    elif score2 >= 70: print(\"The student only passed the second class\")\n",
    "\n",
    "    else: print(\"The student is a silly goose and did not pass either classes\")\n",
    "\n",
    "\n",
    "    \n",
    "while True:\n",
    "    checkScores()"
   ]
  },
  {
   "cell_type": "markdown",
   "metadata": {},
   "source": [
    "### Hack #3"
   ]
  },
  {
   "cell_type": "code",
   "execution_count": 3,
   "metadata": {},
   "outputs": [
    {
     "name": "stdout",
     "output_type": "stream",
     "text": [
      "There are vowels\n",
      "There are vowels\n",
      "There are vowels\n",
      "there are no vowels\n",
      "there are no vowels\n",
      "there are no vowels\n",
      "There are vowels\n"
     ]
    },
    {
     "ename": "SystemExit",
     "evalue": "stopping",
     "output_type": "error",
     "traceback": [
      "An exception has occurred, use %tb to see the full traceback.\n",
      "\u001b[0;31mSystemExit\u001b[0m\u001b[0;31m:\u001b[0m stopping\n"
     ]
    }
   ],
   "source": [
    "import sys\n",
    "\n",
    "VOWELS = \"aeiou\"\n",
    "\n",
    "while True:\n",
    "\n",
    "    ifVowels = False\n",
    "\n",
    "    userInput = input(\"Please enter a string or say STOP to end the program: \")\n",
    "    if (userInput == \"STOP\"): sys.exit(\"stopping\")\n",
    "\n",
    "    for char in userInput:\n",
    "        if (char.lower() in VOWELS): \n",
    "            print(\"There are vowels\")\n",
    "            ifVowels = True\n",
    "            break\n",
    "\n",
    "    if (not ifVowels): print(\"there are no vowels\")"
   ]
  },
  {
   "cell_type": "markdown",
   "metadata": {},
   "source": [
    "## Homework Hacks\n",
    "\n",
    "### Hack #1"
   ]
  },
  {
   "cell_type": "code",
   "execution_count": null,
   "metadata": {},
   "outputs": [],
   "source": [
    "import itertools\n",
    "\n",
    "# Define headers for the truth table\n",
    "headers = ['A', 'B', 'A AND B', 'NOT (A AND B)', 'NOT A OR NOT B', 'A OR B', 'NOT (A OR B)', 'NOT A AND NOT B']\n",
    "\n",
    "# Generate all possible truth values for A and B (True/False)\n",
    "values = list(itertools.product([True, False], repeat=2))\n",
    "\n",
    "def print_truth_table():\n",
    "    # Print the header row\n",
    "    print(f\"{' | '.join(headers)}\")\n",
    "    print(\"-\" * 80)\n",
    "\n",
    "    # Iterate over all combinations of truth values\n",
    "    for A, B in values:\n",
    "        # Calculate the values for each column based on A and B\n",
    "        a_and_b = A and B\n",
    "        not_a_and_b = not (A and B)\n",
    "        not_a_or_not_b = not A or not B  # De Morgan's Law equivalent to NOT (A AND B)\n",
    "        a_or_b = A or B\n",
    "        not_a_or_b = not (A or B)\n",
    "        not_a_and_not_b = not A and not B  # De Morgan's Law equivalent to NOT (A OR B)1\n",
    "\n",
    "        # Print each row of the truth table\n",
    "        print(f\"{A:<5} | {B:<5} | {a_and_b:<9} | {not_a_and_b:<12} | {not_a_or_not_b:<13} | {a_or_b:<7} | {not_a_or_b:<12} | {not_a_and_not_b:<13}\")\n",
    "\n",
    "# Generate and print the truth table\n",
    "print_truth_table()"
   ]
  },
  {
   "cell_type": "markdown",
   "metadata": {},
   "source": [
    "### Hack #2"
   ]
  },
  {
   "cell_type": "code",
   "execution_count": null,
   "metadata": {},
   "outputs": [],
   "source": [
    "def de_morgans_game():\n",
    "    print(\"Welcome to the Yes or No Game (based on De Morgan's Law)!\")\n",
    "    print(\"Answer 'yes' or 'no' to the following questions:\")\n",
    "\n",
    "    # Get user inputs\n",
    "    sunny = input(\"Is it sunny today (yes/no)? \").strip().lower() == 'yes'\n",
    "    raining = input(\"Is it raining today (yes/no)? \").strip().lower() == 'yes'\n",
    "\n",
    "    # De Morgan's Law: !(A and B) == !A or !B\n",
    "    if not (sunny and raining):\n",
    "        print(\"It's not both sunny and raining at the same time.\")\n",
    "    else:\n",
    "        print(\"Somehow, it's both sunny and raining!\")\n",
    "\n",
    "    # De Morgan's Law: !(A or B) == !A and !B\n",
    "    if not (sunny or raining):\n",
    "        print(\"It's neither sunny nor raining!\")\n",
    "    else:\n",
    "        print(\"It's either sunny or raining.\")\n",
    "\n",
    "# Start the game\n",
    "de_morgans_game()"
   ]
  },
  {
   "cell_type": "markdown",
   "metadata": {},
   "source": [
    "# 3.5\n",
    "\n",
    "## Popcorn Hacks\n",
    "\n",
    "### Hack #1"
   ]
  },
  {
   "cell_type": "code",
   "execution_count": null,
   "metadata": {},
   "outputs": [],
   "source": [
    "import sys # for exiting the program\n",
    "\n",
    "# Hack 1: Infinite loop asking for valid list of integers\n",
    "def sum_of_integers():\n",
    "\n",
    "    while True:  # Infinite loop\n",
    "\n",
    "\n",
    "        try:\n",
    "            user_input = input(\"Enter a list of integers separated by spaces or say STOP to stop the program: \")\n",
    "\n",
    "            if (user_input == \"STOP\"):\n",
    "                sys.exit(\"Stopping\")\n",
    "\n",
    "            integers = [int(i) for i in user_input.split()]  # Convert input to list of integers\n",
    "            total_sum = sum(integers)  # Compute sum\n",
    "            print(f\"The sum of the integers is: {total_sum}\")\n",
    "            \n",
    "            break  # Exit loop on valid input\n",
    "\n",
    "\n",
    "        except ValueError:\n",
    "            print(\"You're a silly goose! Please enter valid integers.\")\n",
    "\n",
    "while True: # run code indefinetely\n",
    "    sum_of_integers()"
   ]
  },
  {
   "cell_type": "markdown",
   "metadata": {},
   "source": [
    "### Hack #2"
   ]
  },
  {
   "cell_type": "code",
   "execution_count": null,
   "metadata": {},
   "outputs": [],
   "source": [
    "import sys # for exiting the program\n",
    "\n",
    "# Hack 2: Infinite loop asking for valid popcorn price and number of bags\n",
    "def popcorn_cost():\n",
    "    while True:  # Infinite loop for price\n",
    "\n",
    "\n",
    "        try:\n",
    "            price_per_bag = input(\"Enter the price per bag of popcorn or say STOP to end the program: $\")\n",
    "            if (price_per_bag == \"STOP\"):\n",
    "                sys.exit(\"stopping\") # ending the program\n",
    "\n",
    "            price_per_bag = float(price_per_bag)\n",
    "\n",
    "            break  # Exit loop on valid input\n",
    "\n",
    "\n",
    "        except ValueError:\n",
    "            print(\"You're a silly goose! Please enter a valid number for price.\")\n",
    "\n",
    "\n",
    "    while True:  # Infinite loop for number of bags\n",
    "\n",
    "\n",
    "        try:\n",
    "            num_bags = int(input(\"Enter the number of bags you want to buy: \"))\n",
    "            break  # Exit loop on valid input\n",
    "\n",
    "\n",
    "        except ValueError:\n",
    "            print(\"You're a silly goose! Please enter a valid integer for number of bags.\")\n",
    "\n",
    "\n",
    "    total_cost = price_per_bag * num_bags  # Calculate total cost\n",
    "    print(f\"The total cost for {num_bags} bags is: ${total_cost:.2f}\")\n",
    "\n",
    "\n",
    "\n",
    "\n",
    "# Call the function for indefenitetly\n",
    "while True:\n",
    "    popcorn_cost()"
   ]
  },
  {
   "cell_type": "markdown",
   "metadata": {},
   "source": [
    "### Hack #3"
   ]
  },
  {
   "cell_type": "code",
   "execution_count": null,
   "metadata": {},
   "outputs": [],
   "source": [
    "import sys # for exiting the program\n",
    "\n",
    "# Hack 3: Infinite loop asking for valid integer n\n",
    "def sum_to_n():\n",
    "\n",
    "\n",
    "    while True:  # Infinite loop for valid input\n",
    "\n",
    "\n",
    "        try:\n",
    "            n = input(\"Enter a positive integer n or say STOP to end the program: \")\n",
    "            \n",
    "            if (n == \"STOP\"):\n",
    "                sys.exit(\"stopping\")\n",
    "\n",
    "            n = int(n)\n",
    "\n",
    "            if n <= 0:\n",
    "                print(\"You're a silly goose! Please enter a positive integer.\")\n",
    "                continue\n",
    "\n",
    "            total_sum = sum(range(1, n + 1))  # Sum using range\n",
    "            print(f\"The sum of numbers from 1 to {n} is: {total_sum}\")\n",
    "\n",
    "            break  # Exit loop on valid input\n",
    "\n",
    "\n",
    "        except ValueError:\n",
    "            print(\"You're a silly goose! Please enter a valid integer.\")\n",
    "\n",
    "# Call the function indefinetly\n",
    "while True:\n",
    "    sum_to_n()"
   ]
  },
  {
   "cell_type": "markdown",
   "metadata": {},
   "source": [
    "## Homework Hacks\n",
    "\n",
    "### Hack #1"
   ]
  },
  {
   "cell_type": "code",
   "execution_count": null,
   "metadata": {},
   "outputs": [],
   "source": [
    "import statistics\n",
    "import sys\n",
    "\n",
    "# Homework Hack 1: Infinite loop asking for valid list of integers\n",
    "def mean_and_median():\n",
    "\n",
    "\n",
    "    while True:  # Infinite loop\n",
    "        user_input = input(\"Enter a list of integers separated by spaces (or say STOP to end the program): \")\n",
    "\n",
    "\n",
    "        if (user_input == \"STOP\"):  # Check if user wants to stop\n",
    "            sys.exit(\"stopping\")\n",
    "\n",
    "\n",
    "        try:\n",
    "            numbers = [int(i) for i in user_input.split()]  # Convert input to list of integers\n",
    "            mean_value = statistics.mean(numbers)\n",
    "            median_value = statistics.median(numbers)\n",
    "            print(f\"Mean: {mean_value}, Median: {median_value}\")\n",
    "            break  # Exit loop on valid input\n",
    "\n",
    "\n",
    "        except ValueError:\n",
    "            print(\"You're a silly goose! Please enter valid integers.\")\n",
    "\n",
    "# Call the function indefinetly\n",
    "while True:\n",
    "    mean_and_median()"
   ]
  },
  {
   "cell_type": "markdown",
   "metadata": {},
   "source": [
    "### Hack #2"
   ]
  },
  {
   "cell_type": "code",
   "execution_count": null,
   "metadata": {},
   "outputs": [],
   "source": [
    "import sys\n",
    "\n",
    "# Homework Hack 2: Infinite loop asking for valid integer input\n",
    "def collatz_sequence():\n",
    "    \n",
    "    while True:  # Infinite loop\n",
    "\n",
    "        user_input = input(\"Enter a positive integer for Collatz sequence (or say STOP to end the program): \")\n",
    "\n",
    "\n",
    "        if user_input.upper() == \"STOP\":  # Check if user wants to stop\n",
    "            sys.exit(\"stopping\")\n",
    "\n",
    "\n",
    "        try:\n",
    "            a = int(user_input)  # Convert input to integer\n",
    "\n",
    "            if a <= 0:\n",
    "                print(\"You're a silly goose! Please enter a positive integer.\")\n",
    "                continue\n",
    "\n",
    "            sequence = [a]\n",
    "\n",
    "            while a != 1:\n",
    "\n",
    "                if a % 2 == 0:\n",
    "                    a //= 2\n",
    "\n",
    "                else:\n",
    "                    a = 3 * a + 1\n",
    "\n",
    "                sequence.append(a)\n",
    "\n",
    "            print(f\"Collatz sequence: {sequence}\")\n",
    "            break  # Exit loop on valid input\n",
    "\n",
    "\n",
    "        except ValueError:\n",
    "            print(\"You're a silly goose! Please enter a valid integer.\")\n",
    "\n",
    "\n",
    "# Call the function indefenitely\n",
    "while True:\n",
    "    collatz_sequence()"
   ]
  }
 ],
 "metadata": {
  "kernelspec": {
   "display_name": "venv",
   "language": "python",
   "name": "python3"
  },
  "language_info": {
   "codemirror_mode": {
    "name": "ipython",
    "version": 3
   },
   "file_extension": ".py",
   "mimetype": "text/x-python",
   "name": "python",
   "nbconvert_exporter": "python",
   "pygments_lexer": "ipython3",
   "version": "3.10.12"
  }
 },
 "nbformat": 4,
 "nbformat_minor": 2
}
