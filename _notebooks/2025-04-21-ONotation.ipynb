{
 "cells": [
  {
   "cell_type": "raw",
   "id": "42e7a2d5",
   "metadata": {
    "vscode": {
     "languageId": "raw"
    }
   },
   "source": [
    "---\n",
    "layout: page\n",
    "title: O Notation Homework and Popcorn hacks\n",
    "permalink: /posts/ONotation/\n",
    "---"
   ]
  },
  {
   "cell_type": "markdown",
   "id": "8244b336",
   "metadata": {},
   "source": [
    "## Popcorn Hack #1"
   ]
  },
  {
   "cell_type": "code",
   "execution_count": 1,
   "id": "3bdcb062",
   "metadata": {},
   "outputs": [
    {
     "name": "stdout",
     "output_type": "stream",
     "text": [
      "Third item (O(1)): 3\n",
      "All items (O(n)):\n",
      "1\n",
      "2\n",
      "3\n",
      "4\n",
      "5\n"
     ]
    }
   ],
   "source": [
    "arr = [1, 2, 3, 4, 5]\n",
    "\n",
    "# Constant time (O(1)) - accessing by index\n",
    "print(\"Third item (O(1)):\", arr[2])\n",
    "\n",
    "# Linear time (O(n)) - iterating through the array\n",
    "print(\"All items (O(n)):\")\n",
    "for item in arr:\n",
    "    print(item)\n"
   ]
  },
  {
   "cell_type": "markdown",
   "id": "21a2e322",
   "metadata": {},
   "source": [
    "## Popcorn Hack #2"
   ]
  },
  {
   "cell_type": "code",
   "execution_count": 2,
   "id": "6f8235fc",
   "metadata": {},
   "outputs": [
    {
     "name": "stdout",
     "output_type": "stream",
     "text": [
      "(1,2)\n",
      "(1,3)\n",
      "(2,3)\n"
     ]
    }
   ],
   "source": [
    "def print_unique_pairs(arr):\n",
    "    n = len(arr)\n",
    "    for i in range(n):\n",
    "        for j in range(i + 1, n):\n",
    "            print(f\"({arr[i]},{arr[j]})\")\n",
    "\n",
    "# Example usage\n",
    "arr = [1, 2, 3]\n",
    "print_unique_pairs(arr)\n"
   ]
  },
  {
   "cell_type": "markdown",
   "id": "3f840e9e",
   "metadata": {},
   "source": [
    "### Time Complexity:\n",
    "O(n²) (Quadratic Time)\n",
    "\n",
    "### Explanation:\n",
    "The function uses two nested loops:\n",
    "\n",
    "- The outer loop runs n times.\n",
    "\n",
    "- The inner loop runs (n - i - 1) times on each iteration of the outer loop.\n",
    "\n",
    "- Overall, the number of iterations is roughly n(n - 1)/2, which simplifies to O(n²) in Big-O notation.\n",
    "\n",
    "Even though we're only printing each unique pair once, the nested iteration over the array still leads to quadratic time. Let me know if you want this in another language or want to modify it to return the pairs instead of printing!\n",
    "\n",
    "\n",
    "## Popcorn Hack #3\n",
    "\n",
    "1. Which of these is inefficient for large inputs?\n",
    "✅ Answer: b) Factorial Time\n",
    "\n",
    "Explanation:\n",
    "Factorial Time (O(n!)) grows extremely fast as input size increases. Even for relatively small n, the number of operations becomes huge.\n",
    "\n",
    "The rest grow slower:\n",
    "\n",
    "a) Linear Time (O(n)) is very efficient.\n",
    "\n",
    "c) Constant Time (O(1)) is the most efficient.\n",
    "\n",
    "d) Linearithmic Time (O(n log n)) is still efficient and common in fast sorting algorithms like Merge Sort or Quick Sort.\n",
    "\n",
    "2. Which of these can be represented by a nested loop?\n",
    "✅ Answer: c) Quadratic Time\n",
    "\n",
    "Explanation:\n",
    "Quadratic Time (O(n²)) typically comes from two nested loops each iterating over n elements.\n",
    "\n",
    "python\n",
    "Copy\n",
    "Edit\n",
    "for i in range(n):\n",
    "    for j in range(n):\n",
    "        # O(n^2)\n",
    "The other options:\n",
    "\n",
    "a) Logarithmic Time (O(log n)) often comes from divide-and-conquer (e.g., binary search).\n",
    "\n",
    "b) Linearithmic Time (O(n log n)) comes from algorithms that mix linear and logarithmic steps, like merge sort.\n",
    "\n",
    "d) Linear Time (O(n)) is a single loop, not nested.\n",
    "\n",
    "## Homework Hack #1"
   ]
  },
  {
   "cell_type": "code",
   "execution_count": 3,
   "id": "a7b6c6d4",
   "metadata": {},
   "outputs": [
    {
     "name": "stdout",
     "output_type": "stream",
     "text": [
      "Constant:\n",
      "5\n",
      "\n",
      "Linear:\n",
      "5\n",
      "10\n",
      "15\n",
      "20\n",
      "25\n",
      "\n",
      "Quadratic:\n",
      "(5, 5)\n",
      "(5, 10)\n",
      "(5, 15)\n",
      "(5, 20)\n",
      "(5, 25)\n",
      "(10, 5)\n",
      "(10, 10)\n",
      "(10, 15)\n",
      "(10, 20)\n",
      "(10, 25)\n",
      "(15, 5)\n",
      "(15, 10)\n",
      "(15, 15)\n",
      "(15, 20)\n",
      "(15, 25)\n",
      "(20, 5)\n",
      "(20, 10)\n",
      "(20, 15)\n",
      "(20, 20)\n",
      "(20, 25)\n",
      "(25, 5)\n",
      "(25, 10)\n",
      "(25, 15)\n",
      "(25, 20)\n",
      "(25, 25)\n"
     ]
    }
   ],
   "source": [
    "def perform_operation(arr, complexity):\n",
    "    if complexity == \"constant\":\n",
    "        # O(1) - Access first element\n",
    "        return arr[0] if arr else None\n",
    "\n",
    "    elif complexity == \"linear\":\n",
    "        # O(n) - Print each element\n",
    "        for item in arr:\n",
    "            print(item)\n",
    "\n",
    "    elif complexity == \"quadratic\":\n",
    "        # O(n^2) - Print all pairs\n",
    "        for i in range(len(arr)):\n",
    "            for j in range(len(arr)):\n",
    "                print(f\"({arr[i]}, {arr[j]})\")\n",
    "\n",
    "    else:\n",
    "        print(\"Unsupported complexity type.\")\n",
    "\n",
    "# Example usage\n",
    "arr = [5, 10, 15, 20, 25]\n",
    "print(\"Constant:\")\n",
    "print(perform_operation(arr, \"constant\"))\n",
    "\n",
    "print(\"\\nLinear:\")\n",
    "perform_operation(arr, \"linear\")\n",
    "\n",
    "print(\"\\nQuadratic:\")\n",
    "perform_operation(arr, \"quadratic\")\n"
   ]
  }
 ],
 "metadata": {
  "kernelspec": {
   "display_name": "venv",
   "language": "python",
   "name": "python3"
  },
  "language_info": {
   "codemirror_mode": {
    "name": "ipython",
    "version": 3
   },
   "file_extension": ".py",
   "mimetype": "text/x-python",
   "name": "python",
   "nbconvert_exporter": "python",
   "pygments_lexer": "ipython3",
   "version": "3.10.12"
  }
 },
 "nbformat": 4,
 "nbformat_minor": 5
}
