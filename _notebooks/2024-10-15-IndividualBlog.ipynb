{
 "cells": [
  {
   "cell_type": "raw",
   "metadata": {
    "vscode": {
     "languageId": "raw"
    }
   },
   "source": [
    "---\n",
    "layout: page\n",
    "title: Individual Blog for Sprint 2\n",
    "permalink: /posts/IndividualBlog/\n",
    "---"
   ]
  },
  {
   "cell_type": "markdown",
   "metadata": {},
   "source": [
    "# My Contributions\n",
    "\n",
    "--------\n",
    "\n",
    "## Lessons\n",
    "\n",
    "I wrote and edited all of the lessons relating to while loops\n",
    "\n",
    "These lessons are 3.8.1 and 3.8.2\n",
    "\n",
    "## Popcorn Hacks\n",
    "\n",
    "I wrote all 4 of the popcorn hacks in our lessons\n",
    "\n",
    "## Homework Hacks\n",
    "\n",
    "I wrote all 3 of the homeowork hacks in our lesson\n",
    "\n",
    "# The lesson that stood out\n",
    "\n",
    "---\n",
    "\n",
    "The lesson that stood out to me was the 3.6 and 3.7 lesson\n",
    "\n",
    "When they announced that there would be a kahoot for extra credit, I immideatly focused on their lesson allowing me to learn more of thier material\n",
    "\n",
    "During the kahoot I also was able to clear up some misunderstanding I had with conditionals allowing me to connect my previous knowledge to the knowledge they were presenting.\n",
    "\n",
    "# What I learned\n",
    "\n",
    "---\n",
    "\n",
    "I learned how to utilize for loops and while loops in my code\n",
    "\n",
    "Before I didn't quite understand the for loop syntax in python and how that worked\n",
    "I was used to the regular way of doing for loops and this method was very different\n",
    "\n",
    "Now I am able to apply this knowledge to future python development and maybe some other languages"
   ]
  }
 ],
 "metadata": {
  "language_info": {
   "name": "python"
  }
 },
 "nbformat": 4,
 "nbformat_minor": 2
}
