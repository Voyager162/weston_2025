{
 "cells": [
  {
   "cell_type": "raw",
   "metadata": {
    "vscode": {
     "languageId": "raw"
    }
   },
   "source": [
    "---\n",
    "layout: page\n",
    "title: Individual Blog for Sprint 2\n",
    "permalink: /posts/IndividualBlog/\n",
    "---"
   ]
  },
  {
   "cell_type": "markdown",
   "metadata": {},
   "source": [
    "# My contributions\n",
    "\n",
    "---\n",
    "\n",
    "## Lessons\n",
    "\n",
    "I wrote and edited all of the lessons relating to while loops\n",
    "\n",
    "These lessons are 3.8.1 and 3.8.2\n",
    "\n",
    "## Popcorn Hacks\n",
    "\n",
    "I wrote all 4 of the popcorn hacks in our lessons\n",
    "\n",
    "## Homework Hacks\n",
    "\n",
    "I wrote all 3 of the homeowork hacks in our lesson\n",
    "\n",
    "# How I prepared\n",
    "\n",
    "---\n",
    "\n",
    "In this lesson I took the previous knowledge that I had of while loops and for loops and applied it to the lessons\n",
    "\n",
    "I also took a few brief glances at the college board videos and topics to talk about so that I knew the guidlines for my lessons\n",
    "\n",
    "\n",
    "# The lesson that stood out\n",
    "\n",
    "---\n",
    "\n",
    "The lesson that stood out to me was the 3.6 and 3.7 lesson\n",
    "\n",
    "When they announced that there would be a kahoot for extra credit, I immideatly focused on their lesson allowing me to learn more of thier material\n",
    "\n",
    "During the kahoot I also was able to clear up some misunderstanding I had with conditionals allowing me to connect my previous knowledge to the knowledge they were presenting.\n",
    "\n",
    "# What I learned\n",
    "\n",
    "---\n",
    "\n",
    "I learned how to utilize for loops and while loops in my code\n",
    "\n",
    "Before I didn't quite understand the for loop syntax in python and how that worked\n",
    "I was used to the regular way of doing for loops and this method was very different\n",
    "\n",
    "Now I am able to apply this knowledge to future python development and maybe some other languages\n",
    "\n",
    "\n",
    "\n",
    "# Presentation script (don't look at this)\n",
    "\n",
    "---\n",
    "\n",
    "Talk about contributions of working on all of the popcorn and homework hacks, and the lessons 3.8.1 and 3.8.2\n",
    "\n",
    "Talk about how we used pseudocode used by collage board to explain how these loops work\n",
    "\n",
    "Something memorable about my lesson is the memes that we put into our lessons relating to two different types of loops\n",
    "\n",
    "Something I learned from another lesson is the differnt types of conditions used in python and javascript. Through their kahoot I and the previous knowledge I had from other languages, I could piece together how conditionals worked in these inferior languages\n",
    "\n",
    "In conclusion through creating this lessons I learned the syntax and how python loops worked, especially python for loops which are different than any other language. This sprint 2 has taught me A: how to perform these common tasks in these languages, and B: how to teach others the lessons I have learned."
   ]
  },
  {
   "cell_type": "markdown",
   "metadata": {},
   "source": []
  }
 ],
 "metadata": {
  "language_info": {
   "name": "python"
  }
 },
 "nbformat": 4,
 "nbformat_minor": 2
}
