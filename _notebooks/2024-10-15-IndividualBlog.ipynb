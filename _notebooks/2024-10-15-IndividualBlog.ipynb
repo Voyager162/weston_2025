{
 "cells": [
  {
   "cell_type": "raw",
   "metadata": {
    "vscode": {
     "languageId": "raw"
    }
   },
   "source": [
    "---\n",
    "layout: page\n",
    "title: Individual Blog for sprint 2\n",
    "permalink: /posts/IndividualBlog/\n",
    "---"
   ]
  },
  {
   "cell_type": "markdown",
   "metadata": {},
   "source": [
    "# The Stuff I did\n",
    "\n",
    "## Lessons\n",
    "\n",
    "I wrote and edited all of the lessons relating to while loops\n",
    "\n",
    "These lessons are 3.8.1 and 3.8.2\n",
    "\n",
    "## Popcorn Hacks\n",
    "\n",
    "I wrote all 4 of the popcorn hacks in our lessons\n",
    "\n",
    "## Homework Hacks\n",
    "\n",
    "I wrote all 3 of the homeowork hacks in our lesson\n",
    "\n",
    "# The lesson that stood out\n",
    "\n",
    "The lesson that stood out to me was the 3.6 and 3.7 lesson\n",
    "\n",
    "When they announced that there would be a kahoot for extra credit, I immideatly focused on their lesson allowing me to learn more of thier material\n",
    "\n",
    "During the kahoot I also was able to clear up some misunderstanding I had with conditionals allowing me to connect my previous knowledge to the knowledge they were presenting."
   ]
  }
 ],
 "metadata": {
  "language_info": {
   "name": "python"
  }
 },
 "nbformat": 4,
 "nbformat_minor": 2
}
