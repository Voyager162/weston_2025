{
 "cells": [
  {
   "cell_type": "raw",
   "metadata": {
    "vscode": {
     "languageId": "raw"
    }
   },
   "source": [
    "---\n",
    "layout: page\n",
    "title: 5.6 Homework and Popcorn hacks\n",
    "permalink: /posts/5.6/\n",
    "---"
   ]
  },
  {
   "cell_type": "markdown",
   "metadata": {},
   "source": [
    "## Popcorn Hack #1\n",
    "A. Fingerprint\n",
    "\n",
    "## Popcorn Hack #2\n",
    "D. A username to log in\n",
    "\n",
    "## Popcorn Hack #3\n",
    "B. Finn and Gwen develop a system that maps each letter of the alphabet to a unique symbol using a secret key. Finn uses the key to write a message to Gwen where each letter is replaced with the corresponding symbol. Gwen uses the key to map each symbol back to the original letter.\n",
    "\n",
    "## Popcorn Hack #4\n",
    "1920677#Wpvulkan\n",
    "\n",
    "It would take a computer 1 trillion years to crack"
   ]
  }
 ],
 "metadata": {
  "language_info": {
   "name": "python"
  }
 },
 "nbformat": 4,
 "nbformat_minor": 2
}
