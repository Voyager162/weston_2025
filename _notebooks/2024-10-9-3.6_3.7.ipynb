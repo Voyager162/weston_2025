{
 "cells": [
  {
   "cell_type": "raw",
   "metadata": {},
   "source": [
    "---\n",
    "layout: page\n",
    "title: 3.6 and 3.7 Homework and Popcorn hacks\n",
    "permalink: /posts/3.6_3.7/\n",
    "---"
   ]
  },
  {
   "cell_type": "markdown",
   "metadata": {},
   "source": [
    "# 3.6\n",
    "\n",
    "## Popcorn Hacks\n",
    "\n",
    "### Hack #1"
   ]
  },
  {
   "cell_type": "code",
   "execution_count": 1,
   "metadata": {},
   "outputs": [],
   "source": [
    "# Step 1: Add a variable that represents temperature\n",
    "temperature = 50  # You can change this value to test different conditions\n",
    "\n",
    "# Step 2: Check if it’s a hot day\n",
    "if temperature >= 80:\n",
    "    print(\"It's a hot day\")\n",
    "\n",
    "elif (temperature >= 60):\n",
    "    print(\"It's warm\")\n",
    "# Step 3: Otherwise, print it's a cold day\n",
    "else:\n",
    "    print(\"It's a cold day\")"
   ]
  },
  {
   "cell_type": "markdown",
   "metadata": {},
   "source": [
    "### Hack #2"
   ]
  },
  {
   "cell_type": "code",
   "execution_count": null,
   "metadata": {
    "vscode": {
     "languageId": "javascript"
    }
   },
   "outputs": [],
   "source": [
    "%%js\n",
    "\n",
    "let score = 85;\n",
    "\n",
    "if (score >= 60) {\n",
    "    console.log(\"You passed!\");\n",
    "}\n",
    "\n",
    "else if (score < 60) {\n",
    "    console.log(\"you are a silly goose and did not pass\")\n",
    "}"
   ]
  },
  {
   "cell_type": "markdown",
   "metadata": {},
   "source": [
    "# Python Homework Hacks\n",
    "\n",
    "### Hack 1"
   ]
  },
  {
   "cell_type": "code",
   "execution_count": 3,
   "metadata": {},
   "outputs": [],
   "source": [
    "def checkVotingEligibility(age):\n",
    "    if (age >= 18): return \"You are eligible to vote!\"\n",
    "    else: return \"You are not eligible to vote yet.\"\n",
    "\n",
    "print(checkVotingEligibility(12))\n",
    "print(checkVotingEligibility(18))\n",
    "print(checkVotingEligibility(20))"
   ]
  },
  {
   "cell_type": "markdown",
   "metadata": {},
   "source": [
    "### Hack #2"
   ]
  },
  {
   "cell_type": "code",
   "execution_count": 4,
   "metadata": {},
   "outputs": [],
   "source": [
    "def getGrade(score):\n",
    "    if (score >= 90): return \"A\"\n",
    "    elif (score >= 80): return \"B\"\n",
    "    elif (score >= 70): return \"C\"\n",
    "    elif (score >= 60): return \"D\"\n",
    "    else: return \"F\"\n",
    "\n",
    "print(getGrade(62))\n",
    "print(getGrade(83))\n",
    "print(getGrade(99))\n",
    "print(getGrade(71))\n",
    "print(getGrade(32))"
   ]
  },
  {
   "cell_type": "markdown",
   "metadata": {},
   "source": [
    "### Hack #3"
   ]
  },
  {
   "cell_type": "code",
   "execution_count": 8,
   "metadata": {},
   "outputs": [],
   "source": [
    "def convertTemperature(value, scale):\n",
    "    if (scale == \"C\"): \n",
    "        result = (value * (9/5)) + 32\n",
    "        print (result, \"°F\")\n",
    "    else: \n",
    "        result = (value - 32) * (5/9)\n",
    "        print (result, \"°C\")\n",
    "\n",
    "convertTemperature(233, \"C\")\n",
    "convertTemperature(38, \"F\")"
   ]
  },
  {
   "cell_type": "markdown",
   "metadata": {},
   "source": [
    "# JS Homework Hacks\n",
    "\n",
    "### Hack 1"
   ]
  },
  {
   "cell_type": "code",
   "execution_count": null,
   "metadata": {
    "vscode": {
     "languageId": "javascript"
    }
   },
   "outputs": [],
   "source": [
    "%%js\n",
    "\n",
    "function checkVotingEligibility(age) {\n",
    "    if (age >= 18) return \"You are eligible to vote!\";\n",
    "    else return \"You are not eligible to vote yet.\";\n",
    "}\n",
    "\n",
    "console.log(checkVotingEligibility(12));\n",
    "console.log(checkVotingEligibility(18));\n",
    "console.log(checkVotingEligibility(20));\n"
   ]
  },
  {
   "cell_type": "markdown",
   "metadata": {},
   "source": [
    "### Hack #2"
   ]
  },
  {
   "cell_type": "code",
   "execution_count": null,
   "metadata": {
    "vscode": {
     "languageId": "javascript"
    }
   },
   "outputs": [],
   "source": [
    "%%js\n",
    "\n",
    "function getGrade(score) {\n",
    "    if (score >= 90) return \"A\";\n",
    "    else if (score >= 80) return \"B\";\n",
    "    else if (score >= 70) return \"C\";\n",
    "    else if (score >= 60) return \"D\";\n",
    "    else return \"F\";\n",
    "}\n",
    "\n",
    "console.log(getGrade(62));\n",
    "console.log(getGrade(83));\n",
    "console.log(getGrade(99));\n",
    "console.log(getGrade(71));\n",
    "console.log(getGrade(32));"
   ]
  },
  {
   "cell_type": "markdown",
   "metadata": {},
   "source": [
    "### Hack #3"
   ]
  },
  {
   "cell_type": "code",
   "execution_count": null,
   "metadata": {
    "vscode": {
     "languageId": "javascript"
    }
   },
   "outputs": [],
   "source": [
    "%%js\n",
    "\n",
    "function convertTemperature(value, scale) {\n",
    "    let result;\n",
    "    if (scale === \"C\") { \n",
    "        result = (value * (9/5)) + 32;\n",
    "        console.log(result + \" °F\");\n",
    "    } else { \n",
    "        result = (value - 32) * (5/9);\n",
    "        console.log(result + \" °C\");\n",
    "    }\n",
    "}\n",
    "\n",
    "convertTemperature(233, \"C\");\n",
    "convertTemperature(38, \"F\");"
   ]
  },
  {
   "cell_type": "markdown",
   "metadata": {},
   "source": [
    "# 3.7\n",
    "\n",
    "## Popcorn Hacks\n",
    "\n",
    "### Hack #1"
   ]
  },
  {
   "cell_type": "code",
   "execution_count": null,
   "metadata": {},
   "outputs": [],
   "source": [
    "\n",
    "weather = \"sunny\"\n",
    "transportation = \"available\"\n",
    "boots = \"not present\"\n",
    "lazy = False\n",
    "\n",
    "print(\"The weather is \" + weather)\n",
    "print(\"Your transportation is \" + transportation)\n",
    "print(\"Your boots are \" + boots)\n",
    "print(\"you laziness is \" + lazy)\n",
    "\n",
    "\n",
    "if weather == \"sunny\":\n",
    "    if transportation == \"available\":\n",
    "        if boots == \"present\":\n",
    "            if (not lazy):\n",
    "                print(\"You are ready to go hiking!\")\n",
    "            else:\n",
    "                print(\"you need to get some energy first.\")\n",
    "        else:\n",
    "            print(\"You need to find your boots first.\")\n",
    "    else:\n",
    "        print(\"You need to arrange transportation.\")\n",
    "else:\n",
    "    print(\"It's not good weather for hiking.\")\n",
    "\n",
    "\n",
    "\n",
    "# added laziness condition\n"
   ]
  },
  {
   "cell_type": "markdown",
   "metadata": {},
   "source": [
    "### Hack #2"
   ]
  },
  {
   "cell_type": "code",
   "execution_count": null,
   "metadata": {
    "vscode": {
     "languageId": "javascript"
    }
   },
   "outputs": [],
   "source": [
    "%%js\n",
    "\n",
    "let weather = \"sunny\";\n",
    "let transportation = \"available\";\n",
    "let boots = \"not present\";\n",
    "let lazy = true;\n",
    "\n",
    "console.log(\"The weather is \" + weather);\n",
    "console.log(\"Your transportation is \" + transportation);\n",
    "console.log(\"Your boots are \" + boots);\n",
    "console.log(\"you laziness is \" + lazy)\n",
    "\n",
    "if (weather === \"sunny\") {\n",
    "    if (transportation === \"available\") {\n",
    "        if (boots === \"present\") {\n",
    "            if (!lazy) {\n",
    "                console.log(\"You are ready to go hiking!\");\n",
    "            }\n",
    "\n",
    "            else {\n",
    "                console.log(\"You need to grab youself some energy first, maybe go eat some ice cream\")\n",
    "            }\n",
    "        } \n",
    "\n",
    "        else {\n",
    "            console.log(\"You need to find your boots first.\");\n",
    "        }\n",
    "    } \n",
    "\n",
    "    else {\n",
    "        console.log(\"You need to arrange transportation.\");\n",
    "    }\n",
    "} \n",
    "else {\n",
    "    console.log(\"It's not good weather for hiking.\");\n",
    "}"
   ]
  },
  {
   "cell_type": "markdown",
   "metadata": {},
   "source": [
    "# Python Homework Hacks\n",
    "\n",
    "### Hack 1\n",
    "\n"
   ]
  },
  {
   "cell_type": "code",
   "execution_count": 1,
   "metadata": {},
   "outputs": [
    {
     "name": "stdout",
     "output_type": "stream",
     "text": [
      "you should get some snacks\n"
     ]
    }
   ],
   "source": [
    "\"\"\"\n",
    "BEGIN<br>\n",
    "    IF weather == \"sunny\" THEN<br>\n",
    "        IF have_sunscreen == TRUE THEN<br>\n",
    "            IF have_enough_snacks == TRUE THEN<br>\n",
    "                PRINT \"You are ready for the beach!\"<br>\n",
    "            ELSE<br>\n",
    "                PRINT \"You need to get more snacks first.\"<br>\n",
    "            ENDIF<br>\n",
    "        ELSE<br>\n",
    "            PRINT \"You should buy sunscreen first.\"<br>\n",
    "        ENDIF<br>\n",
    "    ELSE<br>\n",
    "        PRINT \"It's not a good day for the beach.\"<br>\n",
    "    ENDIF<br>\n",
    "END<br>\n",
    "\"\"\""
   ]
  },
  {
   "cell_type": "markdown",
   "metadata": {},
   "source": [
    "### Hack #2"
   ]
  },
  {
   "cell_type": "code",
   "execution_count": 2,
   "metadata": {},
   "outputs": [
    {
     "name": "stdout",
     "output_type": "stream",
     "text": [
      "You can adopt a pet!\n"
     ]
    }
   ],
   "source": [
    "age = 21\n",
    "space = 62\n",
    "availability = True\n",
    "\n",
    "if age >= 18:\n",
    "    if space >= 50:\n",
    "        if availability: print(\"You can adopt a pet!\")\n",
    "        else: print (\"you need to make time\")\n",
    "    else: print (\"you need a bigger home\")\n",
    "else: print (\"you need to be older\")"
   ]
  },
  {
   "cell_type": "markdown",
   "metadata": {},
   "source": [
    "### Hack #3"
   ]
  },
  {
   "cell_type": "code",
   "execution_count": null,
   "metadata": {},
   "outputs": [],
   "source": [
    "weather = \"clear\"\n",
    "shoes = False\n",
    "practiceDays = 12\n",
    "\n",
    "if weather == \"clear\":\n",
    "    if shoes:\n",
    "        if practiceDays >= 10: print(\"You can run a marathon!\")\n",
    "        else: print (\"you need to train for more time\")\n",
    "    else: print (\"you need some good shoes\")\n",
    "else: print (\"it's not a good day to run a marathon\")"
   ]
  },
  {
   "cell_type": "markdown",
   "metadata": {},
   "source": [
    "# JS Homework Hacks\n",
    "\n",
    "### Hack 1\n",
    "\n"
   ]
  },
  {
   "cell_type": "code",
   "execution_count": null,
   "metadata": {},
   "outputs": [],
   "source": [
    "\"\"\"\n",
    "BEGIN<br>\n",
    "    IF have_study_materials == TRUE THEN<br>\n",
    "        IF have_quiet_place == TRUE THEN<br>\n",
    "            IF feeling_tired == FALSE THEN<br>\n",
    "                PRINT \"You are ready to study!\"<br>\n",
    "            ELSE<br>\n",
    "                PRINT \"You should take a nap or rest first.\"<br>\n",
    "            ENDIF<br>\n",
    "        ELSE<br>\n",
    "            PRINT \"You need to find a quiet place to study.\"<br>\n",
    "        ENDIF<br>\n",
    "    ELSE<br>\n",
    "        PRINT \"You need to gather your study materials first.\"<br>\n",
    "    ENDIF<br>\n",
    "END<br>\n",
    "\"\"\"\n"
   ]
  },
  {
   "cell_type": "markdown",
   "metadata": {},
   "source": [
    "### Hack #2"
   ]
  },
  {
   "cell_type": "code",
   "execution_count": null,
   "metadata": {
    "vscode": {
     "languageId": "javascript"
    }
   },
   "outputs": [],
   "source": [
    "%%js\n",
    "\n",
    "// Variables representing the conditions\n",
    "let haveFlour = true;    // Change to false if you don't have flour\n",
    "let haveEggs = true;     // Change to false if you don't have eggs\n",
    "let haveSugar = true;    // Change to false if you don't have sugar\n",
    "let ovenWorking = true;  // Change to false if the oven is not working\n",
    "let timeAvailable = 3;   // Change to reflect the number of hours you have\n",
    "\n",
    "// Function to check if you can bake the cake\n",
    "function canBakeCake() {\n",
    "    if (haveFlour && haveEggs && haveSugar) {\n",
    "        if (ovenWorking) {\n",
    "            if (timeAvailable >= 2) {\n",
    "                console.log(\"You can start baking!\");\n",
    "            } else {\n",
    "                console.log(\"You need to find more time to bake and cool the cake.\");\n",
    "            }\n",
    "        } else {\n",
    "            console.log(\"You need to fix or replace the oven.\");\n",
    "        }\n",
    "    } else {\n",
    "        let missingIngredients = [];\n",
    "        if (!haveFlour) missingIngredients.push(\"flour\");\n",
    "        if (!haveEggs) missingIngredients.push(\"eggs\");\n",
    "        if (!haveSugar) missingIngredients.push(\"sugar\");\n",
    "        \n",
    "        console.log(\"You are missing the following ingredients: \" + missingIngredients.join(\", \") + \".\");\n",
    "    }\n",
    "}\n",
    "\n",
    "// Call the function to check if you can bake the cake\n",
    "canBakeCake();"
   ]
  },
  {
   "cell_type": "markdown",
   "metadata": {},
   "source": [
    "### Hack #3"
   ]
  },
  {
   "cell_type": "code",
   "execution_count": null,
   "metadata": {
    "vscode": {
     "languageId": "javascript"
    }
   },
   "outputs": [],
   "source": [
    "%%js\n",
    "\n",
    "// Variables representing the conditions\n",
    "let weatherClear = true;       // Change to false if the weather is not clear\n",
    "let haveTent = true;           // Change to false if you don't have a tent\n",
    "let haveEnoughFoodAndWater = true;  // Change to false if you don't have enough food and water\n",
    "\n",
    "// Function to check if you can go camping\n",
    "function canGoCamping() {\n",
    "    if (weatherClear) {\n",
    "        if (haveTent) {\n",
    "            if (haveEnoughFoodAndWater) {\n",
    "                console.log(\"You are ready to go camping!\");\n",
    "            } else {\n",
    "                console.log(\"You need to pack more food and water for the trip.\");\n",
    "            }\n",
    "        } else {\n",
    "            console.log(\"You need to buy or borrow a tent.\");\n",
    "        }\n",
    "    } else {\n",
    "        console.log(\"It's not a good time for camping due to the weather.\");\n",
    "    }\n",
    "}\n",
    "\n",
    "// Call the function to check if you can go camping\n",
    "canGoCamping();"
   ]
  }
 ],
 "metadata": {
  "kernelspec": {
   "display_name": "venv",
   "language": "python",
   "name": "python3"
  },
  "language_info": {
   "codemirror_mode": {
    "name": "ipython",
    "version": 3
   },
   "file_extension": ".py",
   "mimetype": "text/x-python",
   "name": "python",
   "nbconvert_exporter": "python",
   "pygments_lexer": "ipython3",
   "version": "3.10.12"
  }
 },
 "nbformat": 4,
 "nbformat_minor": 2
}
