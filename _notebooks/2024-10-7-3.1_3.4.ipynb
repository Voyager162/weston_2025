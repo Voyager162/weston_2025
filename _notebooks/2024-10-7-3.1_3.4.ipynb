{
 "cells": [
  {
   "cell_type": "raw",
   "metadata": {
    "vscode": {
     "languageId": "raw"
    }
   },
   "source": [
    "---\n",
    "layout: page\n",
    "title: 3.1 and 3.4 Homework and Popcorn hacks\n",
    "permalink: /posts/3.1_3.4/\n",
    "---"
   ]
  },
  {
   "cell_type": "markdown",
   "metadata": {},
   "source": [
    "# 3.1\n",
    "\n",
    "## Popcorn Hacks\n",
    "\n",
    "### Hack #1"
   ]
  },
  {
   "cell_type": "code",
   "execution_count": 5,
   "metadata": {},
   "outputs": [],
   "source": [
    "team_member_one = \"Aaron\"\n",
    "team_member_two = \"Lars\"\n",
    "team_member_three = \"shauria\"\n"
   ]
  },
  {
   "cell_type": "markdown",
   "metadata": {},
   "source": [
    "### Hack #2"
   ]
  },
  {
   "cell_type": "code",
   "execution_count": 6,
   "metadata": {},
   "outputs": [],
   "source": [
    "fruits = {\n",
    "    \"apple\": {\n",
    "        \"color\": \"red or green\",\n",
    "        \"taste\": \"sweet or tart\",\n",
    "    },\n",
    "    \"banana\": {\n",
    "        \"color\": \"yellow\",\n",
    "        \"taste\": \"sweet\",\n",
    "    },\n",
    "    \"orange\": {\n",
    "        \"color\": \"orange\",\n",
    "        \"taste\": \"citrusy and sweet\",\n",
    "    },\n",
    "    \"grape\": {\n",
    "        \"color\": \"green or purple\",\n",
    "        \"taste\": \"sweet or tart\",\n",
    "    },\n",
    "    \"strawberry\": {\n",
    "        \"color\": \"red\",\n",
    "        \"taste\": \"sweet and slightly tart\",\n",
    "    }\n",
    "}\n"
   ]
  },
  {
   "cell_type": "markdown",
   "metadata": {},
   "source": [
    "### Hack #3"
   ]
  },
  {
   "cell_type": "markdown",
   "metadata": {},
   "source": [
    "%%html\n",
    "\n",
    "<script>\n",
    "const grapeProperties = {\n",
    "    color: \"green or purple\",\n",
    "    hasSeeds: true,\n",
    "    quantity: 98375,\n",
    "}\n",
    "grapeProperties.quantity = 2;\n",
    "</script>\n",
    "\n"
   ]
  },
  {
   "cell_type": "markdown",
   "metadata": {},
   "source": [
    "### Hack #4"
   ]
  },
  {
   "cell_type": "markdown",
   "metadata": {},
   "source": [
    "%%html\n",
    "\n",
    "<script>\n",
    "    let codingLanguages = [\"c++\", \"c\", \"c#\", \"python\", \"java\", \"javascript\", \"html\", \"css\", \"scss\"]\n",
    "    let numbers = [1, 2, 3, 4, 5, 6, 7, 8, 9, 0]\n",
    "    let booleans = [true, false, true, true, true, false, false, false, false, false, true, true]\n",
    "</script>"
   ]
  },
  {
   "cell_type": "markdown",
   "metadata": {},
   "source": [
    "## Homework Hacks\n",
    "\n",
    "### Hack #1"
   ]
  },
  {
   "cell_type": "markdown",
   "metadata": {},
   "source": [
    "%%html\n",
    "\n",
    "<script>\n",
    "    function bringTogether(var1, var2, var3) {\n",
    "        return String(var1) + String(var2) + String(var3)\n",
    "    }\n",
    "\n",
    "    let name = \"Weston\"\n",
    "    let age = 16\n",
    "    let doesLikePizza = true\n",
    "    consol.log(bringTogether(name, age, doesLikePizza))\n",
    "</script>"
   ]
  },
  {
   "cell_type": "markdown",
   "metadata": {},
   "source": [
    "### Hack #2"
   ]
  },
  {
   "cell_type": "code",
   "execution_count": 7,
   "metadata": {},
   "outputs": [
    {
     "name": "stdout",
     "output_type": "stream",
     "text": [
      "Student Information:\n",
      "Name: Alice, Age: 17, Average Grade: 87.67\n",
      "Name: Bob, Age: 18, Average Grade: 78.00\n",
      "Name: Charlie, Age: 16, Average Grade: 92.00\n"
     ]
    }
   ],
   "source": [
    "# Function to calculate the average of a list of grades\n",
    "def calculate_average(grades):\n",
    "    # Sum all the grades and divide by the number of grades to get the average\n",
    "    return sum(grades) / len(grades)\n",
    "\n",
    "# List to hold student information\n",
    "students = []\n",
    "\n",
    "# Example data for three students\n",
    "student1 = {\n",
    "    'name': 'Alice',\n",
    "    'age': 17,\n",
    "    # Student's grades list\n",
    "    'grades': [90, 85, 88],\n",
    "    # Calculate the average grade using the function\n",
    "    'average_grade': calculate_average([90, 85, 88])\n",
    "}\n",
    "\n",
    "student2 = {\n",
    "    'name': 'Bob',\n",
    "    'age': 18,\n",
    "    'grades': [75, 80, 79],\n",
    "    'average_grade': calculate_average([75, 80, 79])\n",
    "}\n",
    "\n",
    "student3 = {\n",
    "    'name': 'Charlie',\n",
    "    'age': 16,\n",
    "    'grades': [92, 95, 89],\n",
    "    'average_grade': calculate_average([92, 95, 89])\n",
    "}\n",
    "\n",
    "# Append the students to the list\n",
    "students.append(student1)\n",
    "students.append(student2)\n",
    "students.append(student3)\n",
    "\n",
    "# Print student data including their names, ages, and average grades\n",
    "print(\"Student Information:\")\n",
    "for student in students:\n",
    "    print(f\"Name: {student['name']}, Age: {student['age']}, Average Grade: {student['average_grade']:.2f}\")\n"
   ]
  },
  {
   "cell_type": "markdown",
   "metadata": {},
   "source": [
    "# 3.5\n",
    "\n",
    "## Popcorn Hacks\n",
    "\n",
    "### Hack #7"
   ]
  },
  {
   "cell_type": "code",
   "execution_count": 8,
   "metadata": {},
   "outputs": [
    {
     "name": "stdout",
     "output_type": "stream",
     "text": [
      "The title 'guitar man' appears 4 times in the lyrics.\n",
      "The 50th word is: 'I’m'\n",
      "\n",
      "Lyrics after replacing the first verse with the last verse:\n",
      "\n",
      "[Outro]\n",
      "And when I play my guitar, it feels so fine.\n",
      "I play my guitar, I feel so free.\n",
      "\n",
      "\n",
      "[Chorus]\n",
      "I’m a guitar man, I’m a guitar man, yeah.\n",
      "I’m a guitar man, I’m a guitar man, yeah.\n",
      "\n",
      "[Verse 2]\n",
      "People say I’m lucky, but I don’t know what they mean.\n",
      "The world is full of funny things, but I’m living my dream.\n",
      "\n",
      "[Outro]\n",
      "And when I play my guitar, it feels so fine.\n",
      "I play my guitar, I feel so free.\n",
      "\n",
      "\n",
      "Custom song by concatenating two verses:\n",
      "\n",
      "\n",
      "[Verse 1]\n",
      "Well, I’m just a poor boy, I’ve got a guitar in my hand.\n",
      "I’m looking for a place where I can sing my song.\n",
      "[Chorus]\n",
      "I’m a guitar man, I’m a guitar man, yeah.\n",
      "I’m a guitar man, I’m a guitar man, yeah.\n"
     ]
    }
   ],
   "source": [
    "# Lyrics of \"Guitar Man\" by Bread (snippet)\n",
    "lyrics = \"\"\"\n",
    "[Verse 1]\n",
    "Well, I’m just a poor boy, I’ve got a guitar in my hand.\n",
    "I’m looking for a place where I can sing my song.\n",
    "\n",
    "[Chorus]\n",
    "I’m a guitar man, I’m a guitar man, yeah.\n",
    "I’m a guitar man, I’m a guitar man, yeah.\n",
    "\n",
    "[Verse 2]\n",
    "People say I’m lucky, but I don’t know what they mean.\n",
    "The world is full of funny things, but I’m living my dream.\n",
    "\n",
    "[Outro]\n",
    "And when I play my guitar, it feels so fine.\n",
    "I play my guitar, I feel so free.\n",
    "\"\"\"\n",
    "\n",
    "# Define the song title\n",
    "song_title = \"guitar man\"\n",
    "\n",
    "# Step 1: Count how many times the title appears in the lyrics\n",
    "title_count = lyrics.lower().count(song_title.lower())\n",
    "print(f\"The title '{song_title}' appears {title_count} times in the lyrics.\")\n",
    "\n",
    "# Step 2: Find the index of the 50th word\n",
    "words = lyrics.split()  # Split the lyrics into individual words\n",
    "if len(words) >= 50:\n",
    "    print(f\"The 50th word is: '{words[49]}'\")  # 0-based index\n",
    "else:\n",
    "    print(\"The lyrics contain less than 50 words.\")\n",
    "\n",
    "# Step 3: Replace the first verse with the last verse\n",
    "# Splitting verses based on structure in the provided lyrics\n",
    "lyrics_sections = lyrics.split(\"\\n\\n\")  # Assuming verses are separated by double newlines\n",
    "\n",
    "if len(lyrics_sections) >= 2:\n",
    "    first_verse = lyrics_sections[0]\n",
    "    last_verse = lyrics_sections[-1]\n",
    "\n",
    "    # Replacing the first verse with the last verse\n",
    "    new_lyrics = lyrics.replace(first_verse, last_verse, 1)\n",
    "    print(\"\\nLyrics after replacing the first verse with the last verse:\\n\")\n",
    "    print(new_lyrics)\n",
    "else:\n",
    "    print(\"Not enough verses to perform the replacement.\")\n",
    "\n",
    "# Step 4: Concatenate two verses to make your own song\n",
    "if len(lyrics_sections) >= 2:\n",
    "    custom_song = lyrics_sections[0] + \"\\n\" + lyrics_sections[1]\n",
    "    print(\"\\nCustom song by concatenating two verses:\\n\")\n",
    "    print(custom_song)\n",
    "else:\n",
    "    print(\"Not enough verses to concatenate.\")\n"
   ]
  },
  {
   "cell_type": "markdown",
   "metadata": {},
   "source": [
    "### Hack #8"
   ]
  },
  {
   "cell_type": "markdown",
   "metadata": {},
   "source": [
    "%%html\n",
    "<script>\n",
    "// Step 1: Concatenating a flower with an animal\n",
    "let flower = \"Rose\";\n",
    "let animal = \"Tiger\";\n",
    "let newCreature = flower + \" \" + animal;\n",
    "\n",
    "// Step 2: Display the new creature using quotes and template literals\n",
    "console.log(\"The new creature is: \" + newCreature);\n",
    "console.log(`The new creature is: ${newCreature}`);\n",
    "\n",
    "// Step 3: Short story about the creature using variables and dialog\n",
    "let creatureName = \"Rose Tiger\";\n",
    "let creatureDescription = \"a fierce yet beautiful creature with the grace of a flower and the strength of a beast.\";\n",
    "\n",
    "let story = `\n",
    "Once upon a time, in a land of vibrant colors and wild imagination, there lived a creature called ${creatureName}. \n",
    "It was known far and wide for its amazing abilities to charm and protect the forest.\n",
    "\n",
    "One day, a curious adventurer stumbled upon the creature. The adventurer asked, \"What are you, Rose Tiger?\"\n",
    "With a soft roar and a gentle rustling of its petals, the Rose Tiger replied, \"I am both fierce and delicate, \n",
    "able to fight and heal. But only if you respect the balance of nature.\"\n",
    "\n",
    "The adventurer nodded, amazed by the creature's wisdom and beauty. And so, the Rose Tiger continued to watch over the forest, \n",
    "its presence a reminder that strength and kindness can coexist.\"\n",
    "`;\n",
    "\n",
    "console.log(story);\n",
    "</script>"
   ]
  },
  {
   "cell_type": "markdown",
   "metadata": {},
   "source": [
    "## Homework Hacks\n",
    "\n",
    "### Hack #1"
   ]
  },
  {
   "cell_type": "code",
   "execution_count": 9,
   "metadata": {},
   "outputs": [
    {
     "name": "stdout",
     "output_type": "stream",
     "text": [
      "Original String: whatever\n",
      "Total characters (including spaces): 8\n",
      "Longest word: 'whatever' with 8 characters\n",
      "Reversed String: revetahw\n",
      "Middle character(s): 'te'\n",
      "Total vowels: 3\n",
      "'huh?' not found in the original string.\n"
     ]
    }
   ],
   "source": [
    "import re\n",
    "\n",
    "def analyze_text(text):\n",
    "    # Step 1: Display original string\n",
    "    print(\"Original String: \" + text)\n",
    "    \n",
    "    # Step 2: Count total characters (including spaces)\n",
    "    total_chars = len(text)\n",
    "    print(f\"Total characters (including spaces): {total_chars}\")\n",
    "    \n",
    "    # Step 3: Find the longest word and its length\n",
    "    words = re.findall(r'\\b\\w+\\b', text)\n",
    "    longest_word = max(words, key=len) if words else \"\"\n",
    "    print(f\"Longest word: '{longest_word}' with {len(longest_word)} characters\")\n",
    "    \n",
    "    # Step 4: Reverse the string\n",
    "    reversed_text = text[::-1]\n",
    "    print(\"Reversed String: \" + reversed_text)\n",
    "    \n",
    "    # Step 5: Find middle word or character (excluding spaces and special characters)\n",
    "    clean_text = re.sub(r'[^A-Za-z0-9]', '', text)  # Remove spaces and special characters\n",
    "    middle_index = len(clean_text) // 2\n",
    "    if len(clean_text) % 2 == 0:\n",
    "        middle_char = clean_text[middle_index - 1:middle_index + 1]\n",
    "    else:\n",
    "        middle_char = clean_text[middle_index]\n",
    "    \n",
    "    print(f\"Middle character(s): '{middle_char}'\")\n",
    "    \n",
    "    # Step 6: Add your own custom function - Count vowels\n",
    "    vowels = 'AEIOUaeiou'\n",
    "    vowel_count = sum(1 for char in text if char in vowels)\n",
    "    print(f\"Total vowels: {vowel_count}\")\n",
    "    \n",
    "    # Step 7: Replace a word in the string\n",
    "    word_to_replace = input(\"Enter the word you want to replace: \")\n",
    "    if word_to_replace in text:\n",
    "        new_word = input(f\"Enter the word you want to replace '{word_to_replace}' with: \")\n",
    "        modified_text = text.replace(word_to_replace, new_word)\n",
    "        print(\"Modified String: \" + modified_text)\n",
    "    else:\n",
    "        print(f\"'{word_to_replace}' not found in the original string.\")\n",
    "\n",
    "# Example usage\n",
    "text = input(\"Enter your text: \")\n",
    "analyze_text(text)\n"
   ]
  },
  {
   "cell_type": "markdown",
   "metadata": {},
   "source": [
    "### Javascript\n",
    "\n",
    "%%html\n",
    "\n",
    "<script>\n",
    "function analyzeText(text) {\n",
    "    // Step 1: Display original string\n",
    "    console.log(\"Original String: \" + text);\n",
    "\n",
    "    // Step 2: Count total characters (including spaces)\n",
    "    const totalChars = text.length;\n",
    "    console.log(`Total characters (including spaces): ${totalChars}`);\n",
    "\n",
    "    // Step 3: Find the longest word and its length\n",
    "    const words = text.match(/\\b\\w+\\b/g) || [];\n",
    "    const longestWord = words.reduce((longest, word) => word.length > longest.length ? word : longest, '');\n",
    "    console.log(`Longest word: '${longestWord}' with ${longestWord.length} characters`);\n",
    "\n",
    "    // Step 4: Reverse the string\n",
    "    const reversedText = text.split('').reverse().join('');\n",
    "    console.log(\"Reversed String: \" + reversedText);\n",
    "\n",
    "    // Step 5: Find the middle word or character (excluding spaces and special characters)\n",
    "    const cleanText = text.replace(/[^A-Za-z0-9]/g, ''); // Remove spaces and special characters\n",
    "    const middleIndex = Math.floor(cleanText.length / 2);\n",
    "    const middleChar = cleanText.length % 2 === 0\n",
    "        ? cleanText[middleIndex - 1] + cleanText[middleIndex]\n",
    "        : cleanText[middleIndex];\n",
    "    \n",
    "    console.log(`Middle character(s): '${middleChar}'`);\n",
    "\n",
    "    // Step 6: Add your own custom function - Count vowels\n",
    "    const vowels = 'AEIOUaeiou';\n",
    "    const vowelCount = text.split('').filter(char => vowels.includes(char)).length;\n",
    "    console.log(`Total vowels: ${vowelCount}`);\n",
    "\n",
    "    // Step 7: Replace a word in the string\n",
    "    const wordToReplace = prompt(\"Enter the word you want to replace: \");\n",
    "    if (text.includes(wordToReplace)) {\n",
    "        const newWord = prompt(`Enter the word you want to replace '${wordToReplace}' with: `);\n",
    "        const modifiedText = text.split(wordToReplace).join(newWord);\n",
    "        console.log(\"Modified String: \" + modifiedText);\n",
    "    } else {\n",
    "        console.log(`'${wordToReplace}' not found in the original string.`);\n",
    "    }\n",
    "}\n",
    "\n",
    "// Example usage\n",
    "const text = prompt(\"Enter your text: \");\n",
    "analyzeText(text);\n",
    "\n",
    "</script>"
   ]
  }
 ],
 "metadata": {
  "kernelspec": {
   "display_name": "venv",
   "language": "python",
   "name": "python3"
  },
  "language_info": {
   "codemirror_mode": {
    "name": "ipython",
    "version": 3
   },
   "file_extension": ".py",
   "mimetype": "text/x-python",
   "name": "python",
   "nbconvert_exporter": "python",
   "pygments_lexer": "ipython3",
   "version": "3.10.12"
  }
 },
 "nbformat": 4,
 "nbformat_minor": 2
}
