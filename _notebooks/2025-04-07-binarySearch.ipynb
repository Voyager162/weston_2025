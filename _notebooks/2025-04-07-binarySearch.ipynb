{
 "cells": [
  {
   "cell_type": "raw",
   "id": "53a532fa",
   "metadata": {
    "vscode": {
     "languageId": "raw"
    }
   },
   "source": [
    "---\n",
    "layout: page\n",
    "title: Binary Search Homework and Popcorn hacks\n",
    "permalink: /posts/binarySearch/\n",
    "---"
   ]
  },
  {
   "cell_type": "markdown",
   "id": "e2bdb997",
   "metadata": {},
   "source": [
    "## Popcorn Hack #1\n",
    "C, becauwse it needs to be in a sorted order because the binary search algorithm relies on it. The binary search algorithm works by dividing the list in half and checking if the target value is in the left or right half. If the list is not sorted, the algorithm may not work correctly, leading to incorrect results.\n",
    "\n",
    "## Popcorn Hack #2\n",
    "A is incorrect becuse binary search alogorithms are much faster than linear search algorithms. Binary search algorithms have a time complexity of O(log n), while linear search algorithms have a time complexity of O(n). This means that binary search algorithms can find the target value much faster in large lists compared to linear search algorithms.\n",
    "\n",
    "B is correct beause a binary serach must use a sorted list. If the list is not sorted, the binary search algorithm will not work correctly. The algorithm relies on the fact that the list is sorted to divide it in half and check if the target value is in the left or right half.\n",
    "\n",
    "C is incorrect because while binary search algorithms return the first iteration of the target value, linear search alogirthms do the same. Both algorithms will return the first occurrence of the target value in the list. However, binary search algorithms are more efficient in finding the target value in large lists compared to linear search algorithms.\n",
    "\n",
    "D is incorrect because binary search algorithms can use non unique values. The algorithm will still work correctly and return the first occurrence of the target value in the list, regardless of whether the list contains unique or non-unique values.\n",
    "\n",
    "## Popcorn Hack #3"
   ]
  },
  {
   "cell_type": "code",
   "execution_count": 4,
   "id": "0bc47b1c",
   "metadata": {},
   "outputs": [
    {
     "name": "stdout",
     "output_type": "stream",
     "text": [
      "Index of 'g': 6\n"
     ]
    }
   ],
   "source": [
    "def binary_search(arr, target):\n",
    "    left, right = 0, len(arr) - 1\n",
    "    while left <= right:\n",
    "        mid = (left + right) // 2\n",
    "        if arr[mid] == target:\n",
    "            return mid\n",
    "        elif arr[mid] < target:\n",
    "            left = mid + 1\n",
    "        else:\n",
    "            right = mid - 1\n",
    "    return -1\n",
    "\n",
    "letters = ['a', 'b', 'c', 'd', 'e', 'f', 'g']\n",
    "target = 'g'\n",
    "result = binary_search(letters, target)\n",
    "print(f\"Index of '{target}': {result}\")"
   ]
  },
  {
   "cell_type": "markdown",
   "id": "cbee7918",
   "metadata": {},
   "source": [
    "## Homework Hack"
   ]
  },
  {
   "cell_type": "code",
   "execution_count": null,
   "id": "fcc3bf79",
   "metadata": {},
   "outputs": [
    {
     "name": "stdout",
     "output_type": "stream",
     "text": [
      "First few rows of sorted data:\n",
      "        Product  Price\n",
      "5        Eraser   0.50\n",
      "14  Paper Clips   0.89\n",
      "2        Pencil   0.99\n",
      "9    Glue Stick   1.25\n",
      "1           Pen   1.50\n",
      "Original row count: 15\n",
      "Cleaned row count: 15\n",
      "Price 1.25 found at index 3 in the sorted list.\n",
      "Price 6.49 found at index 12 in the sorted list.\n",
      "Price 10.0 not found in the sorted list.\n"
     ]
    }
   ],
   "source": [
    "import pandas as pd\n",
    "\n",
    "# Load the dataset\n",
    "data = pd.read_csv(\"school_supplies.csv\")\n",
    "\n",
    "# Drop rows with missing values \n",
    "data_cleaned = data.dropna()\n",
    "\n",
    "# Sort the data by 'Price'\n",
    "data_sorted = data_cleaned.sort_values(by=\"Price\")\n",
    "\n",
    "# Extract sorted prices as a list\n",
    "price_list = data_sorted[\"Price\"].tolist()\n",
    "\n",
    "# Preview the sorted data\n",
    "print(\"First few rows of sorted data:\")\n",
    "print(data_sorted.head())\n",
    "print(\"Original row count:\", len(data))\n",
    "print(\"Cleaned row count:\", len(data_cleaned))\n",
    "\n",
    "# Binary search function\n",
    "def binary_search(arr, target):\n",
    "    left, right = 0, len(arr) - 1\n",
    "    while left <= right:\n",
    "        mid = (left + right) // 2\n",
    "        if arr[mid] == target:\n",
    "            return mid\n",
    "        elif arr[mid] < target:\n",
    "            left = mid + 1\n",
    "        else:\n",
    "            right = mid - 1\n",
    "    return -1\n",
    "\n",
    "# Prices to search for\n",
    "prices_to_search = [1.25, 6.49, 10.00]\n",
    "\n",
    "# Search for each price and print results\n",
    "for price in prices_to_search:\n",
    "    index = binary_search(price_list, price)\n",
    "    if index != -1:\n",
    "        print(f\"Price {price} found at index {index} in the sorted list.\")\n",
    "    else:\n",
    "        print(f\"Price {price} not found in the sorted list.\")"
   ]
  }
 ],
 "metadata": {
  "kernelspec": {
   "display_name": "venv",
   "language": "python",
   "name": "python3"
  },
  "language_info": {
   "codemirror_mode": {
    "name": "ipython",
    "version": 3
   },
   "file_extension": ".py",
   "mimetype": "text/x-python",
   "name": "python",
   "nbconvert_exporter": "python",
   "pygments_lexer": "ipython3",
   "version": "3.10.12"
  }
 },
 "nbformat": 4,
 "nbformat_minor": 5
}
