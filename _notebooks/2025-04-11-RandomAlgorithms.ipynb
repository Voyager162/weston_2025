{
 "cells": [
  {
   "cell_type": "raw",
   "id": "7c64f1b6",
   "metadata": {
    "vscode": {
     "languageId": "raw"
    }
   },
   "source": [
    "---\n",
    "layout: page\n",
    "title: Random Algorithms Homework and Popcorn hacks\n",
    "permalink: /posts/random/\n",
    "---"
   ]
  },
  {
   "cell_type": "markdown",
   "id": "6045a204",
   "metadata": {},
   "source": [
    "## Popcorn Hack #1\n",
    "A random algorithm is a very complex algorithm taking in many complex inputs and factors to generate a random output.\n",
    "\n",
    "## Popcorn Hack #2"
   ]
  },
  {
   "cell_type": "code",
   "execution_count": 1,
   "id": "decef07d",
   "metadata": {},
   "outputs": [
    {
     "name": "stdout",
     "output_type": "stream",
     "text": [
      "Today’s random activity: study for act\n"
     ]
    }
   ],
   "source": [
    "# Popcorn Hack Number 2 (Random): Make a random algorithm to choose a daily activity:\n",
    "import random\n",
    "# Step 1: Define a list of activities\n",
    "activities = ['work on projects', 'study for act', 'work on homework', 'fly drones', 'work out', 'play video games']\n",
    "# Step 2: Randomly choose an activity\n",
    "random_activity = random.choice(activities)\n",
    "# Step 3: Display the chosen activity\n",
    "print(f\"Today’s random activity: {random_activity}\")"
   ]
  },
  {
   "cell_type": "markdown",
   "id": "039ddf59",
   "metadata": {},
   "source": [
    "## Popcorn Hack #3"
   ]
  },
  {
   "cell_type": "code",
   "execution_count": 2,
   "id": "776a6a63",
   "metadata": {},
   "outputs": [
    {
     "name": "stdout",
     "output_type": "stream",
     "text": [
      "weston will be monitoring watching movies!\n",
      "arnav will be monitoring playing games!\n",
      "ahaan will be monitoring dancing!\n",
      "manas will be monitoring eating snacks!\n"
     ]
    }
   ],
   "source": [
    "# Popcorn Hack Number 3: Using a loops in random\n",
    "# This popcorn hack assigns an activity to each person\n",
    "import random\n",
    "hosts = ['weston', 'arnav', 'ahaan', 'manas']\n",
    "activities = ['dancing', 'singing', 'playing games', 'eating snacks', 'watching movies']\n",
    "# Randomly shuffle the list of activities to assign them randomly to the guests\n",
    "random.shuffle(activities)\n",
    "# Loop through each guest and assign them a random activity\n",
    "for i in range(len(hosts)):\n",
    "    print(f\"{hosts[i]} will be monitoring {activities[i]}!\")"
   ]
  },
  {
   "cell_type": "markdown",
   "id": "de315c58",
   "metadata": {},
   "source": [
    "## Popcorn Hack #4"
   ]
  },
  {
   "cell_type": "code",
   "execution_count": 41,
   "id": "3f167fe0",
   "metadata": {},
   "outputs": [
    {
     "name": "stdout",
     "output_type": "stream",
     "text": [
      "Spinner landed on: 459\n"
     ]
    }
   ],
   "source": [
    "import random\n",
    "\n",
    "def spin_spinner():\n",
    "    return random.randint(1, 10000)\n",
    "\n",
    "spinner_result = spin_spinner()\n",
    "print(\"Spinner landed on:\", spinner_result)"
   ]
  },
  {
   "cell_type": "markdown",
   "id": "9a54c620",
   "metadata": {},
   "source": [
    "## Popcorn Hack #5"
   ]
  },
  {
   "cell_type": "code",
   "execution_count": 42,
   "id": "783adfb9",
   "metadata": {},
   "outputs": [
    {
     "name": "stdout",
     "output_type": "stream",
     "text": [
      "Computer chose: rock\n",
      "You chose: paper\n",
      "You win!\n"
     ]
    }
   ],
   "source": [
    "import random\n",
    "\n",
    "def play_rock_paper_scissors():\n",
    "    choices = ['rock', 'paper', 'scissors']\n",
    "    computer_choice = random.choice(choices)\n",
    "    user_choice = input(\"Enter your choice (rock, paper, or scissors): \")\n",
    "\n",
    "    if user_choice not in choices:\n",
    "        print(\"Invalid choice. Please try again.\")\n",
    "        return\n",
    "\n",
    "    print(\"Computer chose:\", computer_choice)\n",
    "    print(\"You chose:\", user_choice)\n",
    "\n",
    "    if user_choice == computer_choice:\n",
    "        print(\"It's a tie!\")\n",
    "    elif (user_choice == 'rock' and computer_choice == 'scissors') or (user_choice == 'paper' and computer_choice == 'rock') or (user_choice == 'scissors' and computer_choice == 'paper'):\n",
    "        print(\"You win!\")\n",
    "    else:\n",
    "        print(\"You lose!\")\n",
    "\n",
    "play_rock_paper_scissors()"
   ]
  },
  {
   "cell_type": "markdown",
   "id": "998d2748",
   "metadata": {},
   "source": [
    "## Homework Hack #1"
   ]
  },
  {
   "cell_type": "code",
   "execution_count": 43,
   "id": "7dd48b89",
   "metadata": {},
   "outputs": [
    {
     "name": "stdout",
     "output_type": "stream",
     "text": [
      "\n",
      "Team Phoenix:\n",
      " - David\n",
      " - Ella\n",
      " - Mona\n",
      " - Nate\n",
      "\n",
      "Team Kraken:\n",
      " - Cara\n",
      " - Frank\n",
      " - Isla\n",
      " - Liam\n",
      "\n",
      "Team Griffin:\n",
      " - Alice\n",
      " - Ben\n",
      " - Grace\n",
      " - Hugo\n",
      " - Jack\n",
      " - Kira\n",
      " - Olivia\n"
     ]
    }
   ],
   "source": [
    "import random\n",
    "\n",
    "students = [\n",
    "    \"Alice\", \"Ben\", \"Cara\", \"David\", \"Ella\",\n",
    "    \"Frank\", \"Grace\", \"Hugo\", \"Isla\", \"Jack\",\n",
    "    \"Kira\", \"Liam\", \"Mona\", \"Nate\", \"Olivia\"\n",
    "]\n",
    "\n",
    "teams = {\n",
    "    \"Team Phoenix\": [],\n",
    "    \"Team Kraken\": [],\n",
    "    \"Team Griffin\": []\n",
    "}\n",
    "\n",
    "team_names = list(teams.keys())\n",
    "\n",
    "for student in students:\n",
    "    team = random.choice(team_names)\n",
    "    teams[team].append(student)\n",
    "\n",
    "# Print results\n",
    "for team, members in teams.items():\n",
    "    print(f\"\\n{team}:\")\n",
    "    for member in members:\n",
    "        print(f\" - {member}\")"
   ]
  },
  {
   "cell_type": "markdown",
   "id": "46d1dcb5",
   "metadata": {},
   "source": [
    "## Homework Hack #2"
   ]
  },
  {
   "cell_type": "code",
   "execution_count": 44,
   "id": "b741793f",
   "metadata": {},
   "outputs": [
    {
     "name": "stdout",
     "output_type": "stream",
     "text": [
      "7-Day Weather Forecast:\n",
      "Day 1: Sunny\n",
      "Day 2: Sunny\n",
      "Day 3: Cloudy\n",
      "Day 4: Rainy\n",
      "Day 5: Sunny\n",
      "Day 6: Sunny\n",
      "Day 7: Rainy\n"
     ]
    }
   ],
   "source": [
    "import random\n",
    "\n",
    "weather_options = [\"Sunny\", \"Cloudy\", \"Rainy\"]\n",
    "\n",
    "def generate_forecast(days=7):\n",
    "    forecast = []\n",
    "    for day in range(1, days + 1):\n",
    "        weather = random.choice(weather_options)\n",
    "        forecast.append((f\"Day {day}\", weather))\n",
    "    return forecast\n",
    "\n",
    "# Generate and print the forecast\n",
    "weekly_forecast = generate_forecast()\n",
    "\n",
    "print(\"7-Day Weather Forecast:\")\n",
    "for day, weather in weekly_forecast:\n",
    "    print(f\"{day}: {weather}\")"
   ]
  },
  {
   "cell_type": "markdown",
   "id": "7ae034a2",
   "metadata": {},
   "source": [
    "## Homework Hack #3"
   ]
  },
  {
   "cell_type": "code",
   "execution_count": 45,
   "id": "48f982a0",
   "metadata": {},
   "outputs": [
    {
     "name": "stdout",
     "output_type": "stream",
     "text": [
      "Coffee Shop Queue Simulation:\n",
      "\n",
      "Customer 1 - Service time: 1 minutes\n",
      "Customer 2 - Service time: 5 minutes\n",
      "Customer 3 - Service time: 5 minutes\n",
      "Customer 4 - Service time: 2 minutes\n",
      "Customer 5 - Service time: 1 minutes\n",
      "\n",
      "Total time to serve all customers: 14 minutes\n"
     ]
    }
   ],
   "source": [
    "import random\n",
    "\n",
    "def simulate_coffee_queue(num_customers=5):\n",
    "    total_time = 0\n",
    "    service_times = []\n",
    "\n",
    "    print(\"Coffee Shop Queue Simulation:\\n\")\n",
    "\n",
    "    for i in range(1, num_customers + 1):\n",
    "        service_time = random.randint(1, 5)\n",
    "        service_times.append(service_time)\n",
    "        total_time += service_time\n",
    "        print(f\"Customer {i} - Service time: {service_time} minutes\")\n",
    "\n",
    "    print(f\"\\nTotal time to serve all customers: {total_time} minutes\")\n",
    "\n",
    "simulate_coffee_queue()"
   ]
  }
 ],
 "metadata": {
  "kernelspec": {
   "display_name": "venv",
   "language": "python",
   "name": "python3"
  },
  "language_info": {
   "codemirror_mode": {
    "name": "ipython",
    "version": 3
   },
   "file_extension": ".py",
   "mimetype": "text/x-python",
   "name": "python",
   "nbconvert_exporter": "python",
   "pygments_lexer": "ipython3",
   "version": "3.10.12"
  }
 },
 "nbformat": 4,
 "nbformat_minor": 5
}
